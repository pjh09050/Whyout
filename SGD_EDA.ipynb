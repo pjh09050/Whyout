{
 "cells": [
  {
   "cell_type": "code",
   "execution_count": 16,
   "metadata": {
    "ExecuteTime": {
     "end_time": "2024-05-20T06:58:21.212640Z",
     "start_time": "2024-05-20T06:58:21.193306Z"
    }
   },
   "outputs": [],
   "source": [
    "from matplotlib import pyplot as plt\n",
    "%matplotlib inline\n",
    "import pandas as pd\n",
    "import numpy as np\n",
    "from tqdm import tqdm\n",
    "import warnings\n",
    "warnings.filterwarnings(\"ignore\")"
   ]
  },
  {
   "cell_type": "code",
   "execution_count": 17,
   "metadata": {
    "ExecuteTime": {
     "end_time": "2024-05-20T06:58:38.864824Z",
     "start_time": "2024-05-20T06:58:22.439004Z"
    }
   },
   "outputs": [],
   "source": [
    "place = pd.read_csv('../Data/whyout_data/place.csv') # shape(4697,10)\n",
    "product = pd.read_csv('../Data/whyout_data/product.csv') # shape(5834,11)\n",
    "video = pd.read_csv('../Data/whyout_data/video.csv') # shape(3250, 9)"
   ]
  },
  {
   "cell_type": "code",
   "execution_count": 19,
   "metadata": {},
   "outputs": [],
   "source": [
    "user_place = pd.read_csv('../Data/whyout_data/user_place.csv') # (31176,4697)\n",
    "user_product = pd.read_csv('../Data/whyout_data/user_product.csv') # (31176,5834)\n",
    "user_video = pd.read_csv('../Data/whyout_data/user_video.csv') # (31176, 3250)"
   ]
  },
  {
   "cell_type": "code",
   "execution_count": 322,
   "metadata": {
    "ExecuteTime": {
     "end_time": "2024-05-20T06:59:13.281387Z",
     "start_time": "2024-05-20T06:58:38.865820Z"
    }
   },
   "outputs": [],
   "source": [
    "drop_user_place = pd.read_csv('../Data/whyout_data/drop_user_place.csv') # (22420,4697) \n",
    "drop_user_product = pd.read_csv('../Data/whyout_data/drop_user_product.csv') # (2996,5834)\n",
    "drop_user_video = pd.read_csv('../Data/whyout_data/drop_user_video.csv') # (11067, 3250)"
   ]
  },
  {
   "cell_type": "code",
   "execution_count": 370,
   "metadata": {},
   "outputs": [],
   "source": [
    "user = pd.read_csv('../Data/whyout_data/user.csv') # (31176,3)\n",
    "drop_user_place_idx = pd.read_csv('../Data/whyout_data/drop_user_place_idx.csv') # (31176,4697)\n",
    "drop_user_product_idx = pd.read_csv('../Data/whyout_data/drop_user_product_idx.csv') # (31176,5834)\n",
    "drop_user_video_idx = pd.read_csv('../Data/whyout_data/drop_user_video_idx.csv') # (31176, 3250)\n",
    "common_drop_user_idx = pd.read_csv('../Data/whyout_data/common_drop_user_idx.csv') # (25827,3)"
   ]
  },
  {
   "cell_type": "code",
   "execution_count": 214,
   "metadata": {},
   "outputs": [],
   "source": [
    "common_drop_user_place = pd.read_csv('../Data/whyout_data/common_drop_user_place.csv') # (25827,4697)\n",
    "common_drop_user_product = pd.read_csv('../Data/whyout_data/common_drop_user_product.csv') # (25827,5834)\n",
    "common_drop_user_video = pd.read_csv('../Data/whyout_data/common_drop_user_video.csv') # (25827, 3250)"
   ]
  },
  {
   "cell_type": "code",
   "execution_count": null,
   "metadata": {},
   "outputs": [],
   "source": [
    "drop_user_place_k40epochs1000 = pd.read_csv('../Data/whyout_data/drop_user_place_k40epochs1000.csv') # (22420,4697) \n",
    "drop_user_product_k20epochs1000 = pd.read_csv('../Data/whyout_data/drop_user_product.csv') # (2996,5834)\n",
    "drop_user_video_k30epochs1000 = pd.read_csv('../Data/whyout_data/drop_user_video.csv') # (11067, 3250)"
   ]
  },
  {
   "cell_type": "code",
   "execution_count": 49,
   "metadata": {},
   "outputs": [],
   "source": [
    "sgd_place_df_full = pd.read_csv('../Data/whyout_data/sgd_result/full_data/place_epochs2000.csv', index_col=0)\n",
    "sgd_product_df_full = pd.read_csv('../Data/whyout_data/sgd_result/full_data/product_epochs2000.csv', index_col=0)\n",
    "sgd_video_df_full = pd.read_csv('../Data/whyout_data/sgd_result/full_data/video_epochs2000.csv', index_col=0)"
   ]
  },
  {
   "cell_type": "code",
   "execution_count": 20,
   "metadata": {},
   "outputs": [
    {
     "name": "stdout",
     "output_type": "stream",
     "text": [
      "장소를 평가하지 않은 사용자 수: 8756\n",
      "상품을 평가하지 않은 사용자 수: 28180\n",
      "영상을 평가하지 않은 사용자 수: 20109\n",
      "모두 평가하지 않은 사용자 수: 5349\n"
     ]
    }
   ],
   "source": [
    "# 사용자의 평가 유무 확인\n",
    "def find_zero_indices(df):\n",
    "    return df.index[df.eq(0).all(axis=1)].tolist()\n",
    "\n",
    "place_zero_indices = find_zero_indices(user_place)\n",
    "product_zero_indices = find_zero_indices(user_product)\n",
    "video_zero_indices = find_zero_indices(user_video)\n",
    "\n",
    "common_zero_indices = set(place_zero_indices) & set(product_zero_indices) & set(video_zero_indices)\n",
    "#place_product_zero_indices = set(place_zero_indices) & set(product_zero_indices)\n",
    "#place_video_zero_indices = set(place_zero_indices) & set(video_zero_indices)\n",
    "#product_video_zero_indices = set(product_zero_indices) & set(video_zero_indices)\n",
    "\n",
    "print('장소를 평가하지 않은 사용자 수:',len(place_zero_indices))\n",
    "print('상품을 평가하지 않은 사용자 수:',len(product_zero_indices))\n",
    "print('영상을 평가하지 않은 사용자 수:',len(video_zero_indices))\n",
    "print('모두 평가하지 않은 사용자 수:',len(common_zero_indices))\n",
    "#print('장소 & 상품을 같이 평가하지 않은 사용자 수:',len(place_product_zero_indices))\n",
    "#print('장소 & 영상을 같이 평가하지 않은 사용자 수:',len(place_video_zero_indices))\n",
    "#print('상품 & 영상을 같이 평가하지 않은 사용자 수:',len(product_video_zero_indices))"
   ]
  },
  {
   "cell_type": "code",
   "execution_count": 29,
   "metadata": {},
   "outputs": [],
   "source": [
    "sgd_place_df = pd.read_csv('../Data/whyout_data/sgd_result/del_data/drop_place_k50epochs1000.csv')\n",
    "sgd_product_df = pd.read_csv('../Data/whyout_data/sgd_result/del_data/drop_product_k20epochs1000.csv')\n",
    "sgd_video_df = pd.read_csv('../Data/whyout_data/sgd_result/del_data/drop_video_k40epochs1000.csv')"
   ]
  },
  {
   "cell_type": "code",
   "execution_count": 354,
   "metadata": {},
   "outputs": [],
   "source": [
    "def recommend_items(df_sgd_preds, user_id, item_df, ratings_df, idx,num_recommendations):\n",
    "    \"\"\"\n",
    "    :param df_sgd_preds: SGD 예측 평점 데이터프레임\n",
    "    :param user_id: 사용자 ID\n",
    "    :param df: 아이템 데이터프레임\n",
    "    :param ratings_df: 사용자 평점 데이터프레임\n",
    "    :param num_recommendations: 추천할 아이템 수\n",
    "    :return: 사용자가 이미 평가한 아이템 인덱스와 추천 아이템 데이터프레임\n",
    "    \"\"\"\n",
    "    if user_id in idx['idx'].values:\n",
    "        userid = int(idx[idx['idx'] == user_id]['idx'].values[0])\n",
    "        print(userid)\n",
    "        matching_values = int(idx[idx['index'] == (user_id)]['idx'].values[0])\n",
    "        print(matching_values)\n",
    "    else:\n",
    "        print('유저의 행동이 없습니다.')\n",
    "        return None, None\n",
    "\n",
    "    # 원본 평점 데이터에서 user_id에 해당하는 행을 DataFrame으로 가져온다.\n",
    "    user_row_number = user_id - 1\n",
    "    user_data = ratings_df.loc[user_row_number]\n",
    "    #print(user_data)\n",
    "\n",
    "    # 사용자가 이미 평가한 상품의 인덱스를 추출\n",
    "    user_history_indices = [int(i) for i in user_data[user_data > 0].index.tolist()]\n",
    "    print(len(user_history_indices),user_history_indices)\n",
    "\n",
    "    # SGD를 통해 예측된 사용자의 상품 평점을 기반으로 상품 데이터를 정렬\n",
    "    sorted_user_predictions = df_sgd_preds.iloc[user_row_number].sort_values(ascending=False)\n",
    "    #print(df_sgd_preds.iloc[user_row_number])\n",
    "\n",
    "    # 사용자가 아직 평가하지 않은 상품 목록을 추출\n",
    "    recommendations = item_df.loc[~item_df.index.isin(user_history_indices)]\n",
    "\n",
    "    # 예측된 상품 평점 데이터와 원본 상품 데이터를 합침\n",
    "    predictions_df = pd.DataFrame(sorted_user_predictions).reset_index()\n",
    "    predictions_df['index'] = predictions_df['index'].astype(int)\n",
    "    predictions_df.set_index('index', inplace=True)\n",
    "\n",
    "    # recommendations의 인덱스와 predictions_df의 인덱스를 기준으로 병합\n",
    "    recommendations = recommendations.merge(predictions_df, left_index=True, right_index=True)\n",
    "\n",
    "    # 컬럼 이름을 바꾸고 정렬해서 반환\n",
    "    recommendations = recommendations.rename(columns={user_row_number: 'Predictions'}).sort_values('Predictions', ascending=False).iloc[:num_recommendations]\n",
    "    print(f\"user {matching_values}에게 추천해줄 {num_recommendations}개 아이템 id : {recommendations['idx'].values}\")\n",
    "    return user_history_indices, recommendations"
   ]
  },
  {
   "cell_type": "code",
   "execution_count": 373,
   "metadata": {},
   "outputs": [
    {
     "name": "stdout",
     "output_type": "stream",
     "text": [
      "유저의 행동이 없습니다.\n"
     ]
    }
   ],
   "source": [
    "# common_drop_user_place\n",
    "already_rated, predictions = recommend_items(sgd_place_df_full, 15, place, common_drop_user_place, common_drop_user_idx,10)"
   ]
  },
  {
   "cell_type": "code",
   "execution_count": 374,
   "metadata": {},
   "outputs": [
    {
     "name": "stdout",
     "output_type": "stream",
     "text": [
      "유저의 행동이 없습니다.\n"
     ]
    }
   ],
   "source": [
    "already_rated1, predictions1 = recommend_items(sgd_place_df, 15, place, drop_user_place, drop_user_place_idx,10)\n",
    "# place 10 : user idx 37\n",
    "# place 7 : user idx 22"
   ]
  }
 ],
 "metadata": {
  "kernelspec": {
   "display_name": "3_7",
   "language": "python",
   "name": "python3"
  },
  "language_info": {
   "codemirror_mode": {
    "name": "ipython",
    "version": 3
   },
   "file_extension": ".py",
   "mimetype": "text/x-python",
   "name": "python",
   "nbconvert_exporter": "python",
   "pygments_lexer": "ipython3",
   "version": "3.7.15"
  }
 },
 "nbformat": 4,
 "nbformat_minor": 2
}
