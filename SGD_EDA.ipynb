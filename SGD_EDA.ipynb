{
 "cells": [
  {
   "cell_type": "code",
   "execution_count": null,
   "metadata": {
    "ExecuteTime": {
     "end_time": "2024-05-20T06:58:21.212640Z",
     "start_time": "2024-05-20T06:58:21.193306Z"
    }
   },
   "outputs": [],
   "source": [
    "from matplotlib import pyplot as plt\n",
    "%matplotlib inline\n",
    "import pandas as pd\n",
    "import numpy as np\n",
    "from tqdm import tqdm\n",
    "import warnings\n",
    "warnings.filterwarnings(\"ignore\")"
   ]
  },
  {
   "cell_type": "code",
   "execution_count": null,
   "metadata": {
    "ExecuteTime": {
     "end_time": "2024-05-20T06:58:38.864824Z",
     "start_time": "2024-05-20T06:58:22.439004Z"
    }
   },
   "outputs": [],
   "source": [
    "place = pd.read_csv('../Data/whyout_data/place.csv') # shape(4697,10)\n",
    "product = pd.read_csv('../Data/whyout_data/product.csv') # shape(5821,11)\n",
    "video = pd.read_csv('../Data/whyout_data/video.csv') # shape(3250, 9)"
   ]
  },
  {
   "cell_type": "code",
   "execution_count": null,
   "metadata": {},
   "outputs": [],
   "source": [
    "user_place = pd.read_csv('../Data/whyout_data/col_user_place.csv') # (31177,4697)\n",
    "user_product = pd.read_csv('../Data/whyout_data/col_user_product.csv') # (31177,5821)\n",
    "user_video = pd.read_csv('../Data/whyout_data/col_user_video.csv') # (31177, 3250)"
   ]
  },
  {
   "cell_type": "code",
   "execution_count": null,
   "metadata": {
    "ExecuteTime": {
     "end_time": "2024-05-20T06:59:13.281387Z",
     "start_time": "2024-05-20T06:58:38.865820Z"
    }
   },
   "outputs": [],
   "source": [
    "drop_user_place = pd.read_csv('../Data/whyout_data/drop_user_place.csv') # (22420,4697) \n",
    "drop_user_product = pd.read_csv('../Data/whyout_data/drop_user_product.csv') # (2994,5821)\n",
    "drop_user_video = pd.read_csv('../Data/whyout_data/drop_user_video.csv') # (11067, 3250)"
   ]
  },
  {
   "cell_type": "code",
   "execution_count": null,
   "metadata": {},
   "outputs": [],
   "source": [
    "user = pd.read_csv('../Data/whyout_data/user.csv') # (31177,3)\n",
    "drop_user_place_idx = pd.read_csv('../Data/whyout_data/drop_user_place_idx.csv') # (22420,4)\n",
    "drop_user_product_idx = pd.read_csv('../Data/whyout_data/drop_user_product_idx.csv') # (2294,4)\n",
    "drop_user_video_idx = pd.read_csv('../Data/whyout_data/drop_user_video_idx.csv') # (11067, 4)"
   ]
  },
  {
   "cell_type": "code",
   "execution_count": null,
   "metadata": {},
   "outputs": [],
   "source": [
    "full_data_sgd_place_preds = pd.read_csv('../Data/whyout_data/sgd_result/full_data/user_place_k50epochs1000.csv')\n",
    "full_data_sgd_product_preds = pd.read_csv('../Data/whyout_data/sgd_result/full_data/user_product_k50epochs1000.csv')\n",
    "full_data_sgd_video_preds = pd.read_csv('../Data/whyout_data/sgd_result/full_data/user_video_k50epochs1000.csv')"
   ]
  },
  {
   "cell_type": "code",
   "execution_count": null,
   "metadata": {},
   "outputs": [],
   "source": [
    "del_data_sgd_place_preds = pd.read_csv('../Data/whyout_data/sgd_result/del_data/drop_user_place_k40epochs1000.csv')\n",
    "del_data_sgd_product_preds = pd.read_csv('../Data/whyout_data/sgd_result/del_data/drop_user_product_k20epochs1000.csv')\n",
    "del_data_sgd_video_preds = pd.read_csv('../Data/whyout_data/sgd_result/del_data/drop_user_video_k30epochs1000.csv')"
   ]
  },
  {
   "cell_type": "code",
   "execution_count": null,
   "metadata": {},
   "outputs": [],
   "source": [
    "place_user_latent = pd.read_csv('../Data/whyout_data/sgd_result/del_data/drop_user_place_user_latent_k40epochs1000.csv')\n",
    "place_item_latent = pd.read_csv('../Data/whyout_data/sgd_result/del_data/drop_user_place_item_latent_k40epochs1000.csv')\n",
    "product_user_latent = pd.read_csv('../Data/whyout_data/sgd_result/del_data/drop_user_product_user_latent_k20epochs1000.csv')\n",
    "product_item_latent = pd.read_csv('../Data/whyout_data/sgd_result/del_data/drop_user_product_item_latent_k20epochs1000.csv')\n",
    "video_user_latent = pd.read_csv('../Data/whyout_data/sgd_result/del_data/drop_user_video_user_latent_k30epochs1000.csv')\n",
    "video_item_latent = pd.read_csv('../Data/whyout_data/sgd_result/del_data/drop_user_video_item_latent_k30epochs1000.csv')"
   ]
  },
  {
   "cell_type": "code",
   "execution_count": null,
   "metadata": {},
   "outputs": [],
   "source": [
    "# 사용자의 평가 유무 확인\n",
    "def find_zero_indices(df):\n",
    "    return df.index[df.eq(0).all(axis=1)].tolist()\n",
    "\n",
    "def find_non_zero_indices(df):\n",
    "    return df.index[~df.eq(0).all(axis=1)].tolist()\n",
    "\n",
    "place_zero_indices = find_zero_indices(user_place)\n",
    "product_zero_indices = find_zero_indices(user_product)\n",
    "video_zero_indices = find_zero_indices(user_video)\n",
    "common_zero_indices = set(place_zero_indices) & set(product_zero_indices) & set(video_zero_indices)\n",
    "\n",
    "print('장소를 평가하지 않은 사용자 수:',len(place_zero_indices))\n",
    "print('상품을 평가하지 않은 사용자 수:',len(product_zero_indices))\n",
    "print('영상을 평가하지 않은 사용자 수:',len(video_zero_indices))\n",
    "print('모두 평가하지 않은 사용자 수:',len(common_zero_indices))\n",
    "\n",
    "place_non_zero_indices = find_non_zero_indices(user_place)\n",
    "product_non_zero_indices = find_non_zero_indices(user_product)\n",
    "video_non_zero_indices = find_non_zero_indices(user_video)\n",
    "common_non_zero_indices = set(place_non_zero_indices) & set(product_non_zero_indices) & set(video_non_zero_indices)\n",
    "\n",
    "print('장소를 평가한 사용자 수:',len(place_non_zero_indices))\n",
    "print('상품을 평가한 사용자 수:',len(product_non_zero_indices))\n",
    "print('영상을 평가한 사용자 수:',len(video_non_zero_indices))\n",
    "print('모두 평가한 사용자 수:',len(common_non_zero_indices))\n"
   ]
  },
  {
   "cell_type": "code",
   "execution_count": null,
   "metadata": {},
   "outputs": [],
   "source": [
    "# place 활동내역이 있는 user에게 place 추천\n",
    "place_user_id = 100\n",
    "num_recommendations = 10\n",
    "\n",
    "def recommend_place(sgd_place_preds, user_id, place_df, ratings_df, idx, num_recommendations):\n",
    "    if user_id in idx['idx'].values:\n",
    "        print(f'{user_id}번 유저의 행동이 있습니다.')\n",
    "        user_place_index = int(idx[idx['idx'] == user_id].iloc[:,2])\n",
    "        drop_user_place_index = int(idx[idx['idx'] == user_id].iloc[:,3])\n",
    "        print('user_place_index:', user_place_index)\n",
    "        print('drop_user_place_index:', drop_user_place_index)\n",
    "\n",
    "        # 원본 평점 데이터에서 user_id에 해당하는 행을 DataFrame으로 가져온다.\n",
    "        user_data = ratings_df.loc[drop_user_place_index]\n",
    "\n",
    "        # 사용자가 이미 평가한 상품의 인덱스를 추출\n",
    "        user_history_indices = [int(i) for i in user_data[user_data > 0].index.tolist()]\n",
    "        user_history_non_indices = [int(i) for i in user_data[user_data <= 0].index.tolist()]\n",
    "        print(f'이미 평가한 place 길이: {len(user_history_indices)}')\n",
    "        print(f'이미 평가한 place:', user_history_indices)\n",
    "        #print(len(user_history_non_indices),user_history_non_indices)\n",
    "        non_recommendations = place_df.iloc[user_history_indices]['idx'].tolist()\n",
    "        recommendations = place_df.iloc[user_history_non_indices]['idx'].tolist()\n",
    "\n",
    "        print(\"이미 평가한 place idx:\", non_recommendations)\n",
    "        print(\"평가 안한 place idx:\", recommendations)\n",
    "\n",
    "        # SGD를 통해 예측된 사용자의 평점을 기반으로 데이터 정렬\n",
    "        user_predictions = sgd_place_preds.loc[drop_user_place_index]\n",
    "        user_predictions_filtered = user_predictions.iloc[user_history_non_indices]\n",
    "        sorted_predictions = user_predictions_filtered.sort_values(ascending=False)\n",
    "        top_recommendations = sorted_predictions.index.tolist()[:num_recommendations]\n",
    "        recommendations_result = place_df.iloc[top_recommendations]['idx'].tolist()\n",
    "        print(f\"user {user_id}에게 추천해줄 {10}개 place idx : {recommendations_result}\")\n",
    "        return recommendations_result\n",
    "    else:\n",
    "        print(f'{user_id}번 유저의 행동이 없습니다.')\n",
    "\n",
    "predictions = recommend_place(del_data_sgd_place_preds, place_user_id, place, drop_user_place, drop_user_place_idx ,num_recommendations)"
   ]
  },
  {
   "cell_type": "code",
   "execution_count": null,
   "metadata": {},
   "outputs": [],
   "source": [
    "# product 활동내역이 있는 user에게 product 추천\n",
    "product_user_id = 7\n",
    "num_recommendations = 10\n",
    "\n",
    "def recommend_product(sgd_product_preds, user_id, product_df, ratings_df, idx, num_recommendations):\n",
    "    if user_id in idx['idx'].values:\n",
    "        print(f'{user_id}번 유저의 행동이 있습니다.')\n",
    "        user_product_index = int(idx[idx['idx'] == user_id].iloc[:,2])\n",
    "        drop_user_product_index = int(idx[idx['idx'] == user_id].iloc[:,3])\n",
    "        print('user_product_index:', user_product_index)\n",
    "        print('drop_user_product_index:', drop_user_product_index)\n",
    "\n",
    "        # 원본 평점 데이터에서 user_id에 해당하는 행을 DataFrame으로 가져온다.\n",
    "        user_data = ratings_df.loc[drop_user_product_index]\n",
    "\n",
    "        # 사용자가 이미 평가한 상품의 인덱스를 추출\n",
    "        user_history_indices = [int(i) for i in user_data[user_data > 0].index.tolist()]\n",
    "        user_history_non_indices = [int(i) for i in user_data[user_data <= 0].index.tolist()]\n",
    "        print(f'이미 평가한 product 길이: {len(user_history_indices)}')\n",
    "        print(f'이미 평가한 product:', user_history_indices)\n",
    "        #print(len(user_history_non_indices),user_history_non_indices)\n",
    "        non_recommendations = product_df.iloc[user_history_indices]['idx'].tolist()\n",
    "        recommendations = product_df.iloc[user_history_non_indices]['idx'].tolist()\n",
    "\n",
    "        print(\"이미 평가한 product idx:\", non_recommendations)\n",
    "        print(\"평가 안한 product idx:\", recommendations)\n",
    "\n",
    "        # SGD를 통해 예측된 사용자의 평점을 기반으로 데이터 정렬\n",
    "        user_predictions = sgd_product_preds.loc[drop_user_product_index]\n",
    "        user_predictions_filtered = user_predictions.iloc[user_history_non_indices]\n",
    "        sorted_predictions = user_predictions_filtered.sort_values(ascending=False)\n",
    "        top_recommendations = sorted_predictions.index.tolist()[:num_recommendations]\n",
    "        recommendations_result = product_df.iloc[top_recommendations]['idx'].tolist()\n",
    "        print(f\"user {user_id}에게 추천해줄 {10}개 product idx : {recommendations_result}\")\n",
    "        return recommendations_result\n",
    "    else:\n",
    "        print(f'{user_id}번 유저의 행동이 없습니다.')\n",
    "\n",
    "predictions = recommend_product(del_data_sgd_product_preds, product_user_id, product, drop_user_product, drop_user_product_idx, num_recommendations)"
   ]
  },
  {
   "cell_type": "code",
   "execution_count": null,
   "metadata": {},
   "outputs": [],
   "source": [
    "# video 활동내역이 있는 user에게 video 추천\n",
    "video_user_id = 7\n",
    "num_recommendations = 10\n",
    "\n",
    "def recommend_video(sgd_video_preds, user_id, video_df, ratings_df, idx, num_recommendations):\n",
    "    if user_id in idx['idx'].values:\n",
    "        print(f'{user_id}번 유저의 행동이 있습니다.')\n",
    "        user_video_index = int(idx[idx['idx'] == user_id].iloc[:,2])\n",
    "        drop_user_video_index = int(idx[idx['idx'] == user_id].iloc[:,3])\n",
    "        print('user_video_index:', user_video_index)\n",
    "        print('drop_user_video_index:', drop_user_video_index)\n",
    "\n",
    "        # 원본 평점 데이터에서 user_id에 해당하는 행을 DataFrame으로 가져온다.\n",
    "        user_data = ratings_df.loc[drop_user_video_index]\n",
    "\n",
    "        # 사용자가 이미 평가한 상품의 인덱스를 추출\n",
    "        user_history_indices = [int(i) for i in user_data[user_data > 0].index.tolist()]\n",
    "        user_history_non_indices = [int(i) for i in user_data[user_data <= 0].index.tolist()]\n",
    "        print(f'이미 평가한 video 길이: {len(user_history_indices)}')\n",
    "        print('이미 평가한 video:', user_history_indices)\n",
    "        #print(len(user_history_non_indices),user_history_non_indices)\n",
    "        non_recommendations = video_df.iloc[user_history_indices]['idx'].tolist()\n",
    "        recommendations = video_df.iloc[user_history_non_indices]['idx'].tolist()\n",
    "\n",
    "        print(\"이미 평가한 video idx:\", non_recommendations)\n",
    "        print(\"평가 안한 video idx:\", recommendations)\n",
    "\n",
    "        # SGD를 통해 예측된 사용자의 평점을 기반으로 데이터 정렬\n",
    "        user_predictions = sgd_video_preds.loc[drop_user_video_index]\n",
    "        user_predictions_filtered = user_predictions.iloc[user_history_non_indices]\n",
    "        sorted_predictions = user_predictions_filtered.sort_values(ascending=False)\n",
    "        top_recommendations = sorted_predictions.index.tolist()[:num_recommendations]\n",
    "        recommendations_result = video_df.iloc[top_recommendations]['idx'].tolist()\n",
    "        print(f\"user {user_id}에게 추천해줄 {10}개 video idx : {recommendations_result}\")\n",
    "        return recommendations_result\n",
    "    else:\n",
    "        print(f'{user_id}번 유저의 행동이 없습니다.')\n",
    "\n",
    "predictions = recommend_video(del_data_sgd_video_preds, video_user_id, video, drop_user_video, drop_user_video_idx, num_recommendations)"
   ]
  },
  {
   "cell_type": "code",
   "execution_count": null,
   "metadata": {},
   "outputs": [],
   "source": [
    "# 모든 데이터 place, product, video 추천\n",
    "user_id = 7\n",
    "num_recommendations = 10\n",
    "\n",
    "def recommend_video(total_sgd_preds, user_id, total_df, ratings_df, idx, num_recommendations):\n",
    "    if user_id in idx['idx'].values:\n",
    "        print(f'{user_id}번 유저의 행동이 있습니다.')\n",
    "        user_video_index = int(idx[idx['idx'] == user_id].iloc[:,2])\n",
    "        print('user_video_index:', user_video_index)\n",
    "\n",
    "        # 원본 평점 데이터에서 user_id에 해당하는 행을 DataFrame으로 가져온다.\n",
    "        user_data = ratings_df.loc[user_video_index]\n",
    "\n",
    "        # 사용자가 이미 평가한 상품의 인덱스를 추출\n",
    "        user_history_indices = [int(i) for i in user_data[user_data > 0].index.tolist()]\n",
    "        user_history_non_indices = [int(i) for i in user_data[user_data <= 0].index.tolist()]\n",
    "        print(f'이미 평가한 아이템 길이: {len(user_history_indices)}')\n",
    "        print('이미 평가한 아이템:', user_history_indices)\n",
    "        #print(len(user_history_non_indices),user_history_non_indices)\n",
    "        non_recommendations = total_df.iloc[user_history_indices]['idx'].tolist()\n",
    "        recommendations = total_df.iloc[user_history_non_indices]['idx'].tolist()\n",
    "\n",
    "        print(\"이미 평가한 아이템 idx:\", non_recommendations)\n",
    "        print(\"평가 안한 아이템 idx:\", recommendations)\n",
    "\n",
    "        # SGD를 통해 예측된 사용자의 평점을 기반으로 데이터 정렬\n",
    "        user_predictions = total_sgd_preds.loc[user_video_index]\n",
    "        user_predictions_filtered = user_predictions.iloc[user_history_non_indices]\n",
    "        sorted_predictions = user_predictions_filtered.sort_values(ascending=False)\n",
    "        top_recommendations = sorted_predictions.index.tolist()[:num_recommendations]\n",
    "        recommendations_result = total_df.iloc[top_recommendations]['idx'].tolist()\n",
    "        print(f\"user {user_id}에게 추천해줄 {10}개 아이템 idx : {recommendations_result}\")\n",
    "        return recommendations_result\n",
    "    else:\n",
    "        print(f'{user_id}번 유저의 행동이 없습니다.')\n",
    "\n",
    "predictions = recommend_video(del_data_sgd_place_preds, user_id, place, user_place, user, num_recommendations)"
   ]
  },
  {
   "cell_type": "code",
   "execution_count": null,
   "metadata": {},
   "outputs": [],
   "source": [
    "# video 활동내역이 있는 user에게 video 추천\n",
    "user_id = 100\n",
    "num_recommendations = 10\n",
    "\n",
    "def recommend(item, sgd_video_preds, user_id, video_df, ratings_df, idx, num_recommendations):\n",
    "    drop_user_video_index = int(idx[idx['idx'] == user_id].iloc[:,3])\n",
    "    user_data = ratings_df.loc[drop_user_video_index]\n",
    "\n",
    "    user_history_indices = [int(i) for i in user_data[user_data > 0].index.tolist()]\n",
    "    user_history_non_indices = [int(i) for i in user_data[user_data <= 0].index.tolist()]\n",
    "\n",
    "    non_recommendations = video_df.iloc[user_history_indices]['idx'].tolist()\n",
    "    recommendations = video_df.iloc[user_history_non_indices]['idx'].tolist()\n",
    "\n",
    "    user_predictions = sgd_video_preds.loc[drop_user_video_index]\n",
    "    user_predictions_filtered = user_predictions.iloc[user_history_non_indices]\n",
    "    sorted_predictions = user_predictions_filtered.sort_values(ascending=False)\n",
    "    top_recommendations = sorted_predictions.index.tolist()[:num_recommendations]\n",
    "    recommendations_result = video_df.iloc[top_recommendations]['idx'].tolist()\n",
    "    print(f\"user {user_id}에게 추천해줄 {10}개 {item} idx : {recommendations_result}\")"
   ]
  },
  {
   "cell_type": "code",
   "execution_count": null,
   "metadata": {},
   "outputs": [],
   "source": [
    "user_id = [10]\n",
    "item = 'place'\n",
    "dict = { 'place' : [del_data_sgd_place_preds, place, drop_user_place, drop_user_place_idx],\n",
    "         'product' : [del_data_sgd_product_preds, product, drop_user_product, drop_user_product_idx],\n",
    "         'video' : [del_data_sgd_video_preds, video, drop_user_video, drop_user_video_idx]}"
   ]
  },
  {
   "cell_type": "code",
   "execution_count": null,
   "metadata": {},
   "outputs": [],
   "source": [
    "def cos_similiarity(item, item_list, user_id):\n",
    "    item_list.remove(item)\n",
    "    print(item_list)\n",
    "    a = item_list[0]\n",
    "    new_user_id= 15\n",
    "    #new_user_id = cos(a[U], user_id) # user_id와 유사도가 높은 argmax\n",
    "    return new_user_id"
   ]
  },
  {
   "cell_type": "code",
   "execution_count": null,
   "metadata": {},
   "outputs": [],
   "source": [
    "def recommendation_system(user_id, item):\n",
    "    try:\n",
    "        recommend(item, dict[item][0], user_id, dict[item][1], dict[item][2], dict[item][3], num_recommendations)\n",
    "    except:\n",
    "        item_list = ['place', 'video', 'product']\n",
    "        new_user_id = cos_similiarity(item, item_list, user_id)\n",
    "        recommend(item, dict[item][0], new_user_id, dict[item][1], dict[item][2], dict[item][3], num_recommendations)"
   ]
  }
 ],
 "metadata": {
  "kernelspec": {
   "display_name": "3_7",
   "language": "python",
   "name": "python3"
  },
  "language_info": {
   "codemirror_mode": {
    "name": "ipython",
    "version": 3
   },
   "file_extension": ".py",
   "mimetype": "text/x-python",
   "name": "python",
   "nbconvert_exporter": "python",
   "pygments_lexer": "ipython3",
   "version": "3.7.15"
  }
 },
 "nbformat": 4,
 "nbformat_minor": 2
}
