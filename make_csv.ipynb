{
 "cells": [
  {
   "cell_type": "code",
   "execution_count": 1,
   "metadata": {},
   "outputs": [],
   "source": [
    "import pandas as pd"
   ]
  },
  {
   "cell_type": "code",
   "execution_count": 5,
   "metadata": {},
   "outputs": [
    {
     "name": "stdout",
     "output_type": "stream",
     "text": [
      "장소.csv로 내보내기 완료!\n",
      "영상.csv로 내보내기 완료!\n",
      "상품.csv로 내보내기 완료!\n",
      "유저.csv로 내보내기 완료!\n"
     ]
    }
   ],
   "source": [
    "# # 엑셀 파일 읽기\n",
    "# xls_file = '../Data/whyout_data/raw_data/와이아웃 ai용 raw data_0523.xlsx'\n",
    "# xls = pd.ExcelFile(xls_file)\n",
    "\n",
    "# # 시트별로 CSV로 내보내기\n",
    "# for sheet_name in xls.sheet_names:\n",
    "#     df = pd.read_excel(xls, sheet_name, index_col=0, header=1)\n",
    "#     csv_file = f'{sheet_name}.csv'\n",
    "#     df.to_csv(csv_file, encoding='utf-8-sig')\n",
    "#     print(f'{csv_file}로 내보내기 완료!')"
   ]
  },
  {
   "cell_type": "code",
   "execution_count": null,
   "metadata": {},
   "outputs": [],
   "source": [
    "# 텍스트 파일 경로\n",
    "file_path = \"../Data/whyout_data/raw_data/user_poi_output_total.txt\"\n",
    "c = 0  # 카운터 변수 초기화\n",
    "count = 0\n",
    "# 파일을 읽기 모드로 열기\n",
    "with open(file_path, 'r') as file:\n",
    "    # 파일의 각 줄을 순회하면서 검색\n",
    "    for line_number, line in enumerate(file, start=1):\n",
    "        count += 1\n",
    "        # 현재 줄을 쉼표로 분리하고 각 요소가 '0'이 아닌지 확인\n",
    "        if any(item != '0' for item in line.strip().split(',')):\n",
    "            c += 1\n",
    "            print(f\"0이 아닌 값을 발견했습니다. 파일: {file_path}, 줄: {line_number-1}, 내용: {line}\")\n",
    "\n",
    "# 모든 줄을 순회한 후 결과 출력\n",
    "if c == 0:\n",
    "    print(\"파일에서 0이 아닌 값을 발견하지 못했습니다.\")\n",
    "else:\n",
    "    print(f\"총 {c}개의 줄에서 0이 아닌 값이 있습니다.\")\n",
    "print(count)"
   ]
  },
  {
   "cell_type": "code",
   "execution_count": null,
   "metadata": {},
   "outputs": [],
   "source": [
    "# 텍스트 파일 경로\n",
    "file_path = \"../Data/whyout_data/raw_data/user_poi_output_total.txt\"\n",
    "c = 0  # 카운터 변수 초기화\n",
    "count = 0\n",
    "# 파일을 읽기 모드로 열기\n",
    "with open(file_path, 'r') as file:\n",
    "    # 파일의 각 줄을 순회하면서 검색\n",
    "    for line_number, line in enumerate(file, start=0):\n",
    "        # 현재 줄을 쉼표로 분리하고 각 요소가 '0'이 아닌지 확인\n",
    "        if any(item != '0' for item in line.strip().split(',')):\n",
    "            c += 1\n",
    "            print(f\"0이 아닌 값을 발견했습니다. 파일: {file_path}, 줄: {line_number}, 내용: {line}\")\n",
    "        count += 1\n",
    "# 모든 줄을 순회한 후 결과 출력\n",
    "if c == 0:\n",
    "    print(\"파일에서 0이 아닌 값을 발견하지 못했습니다.\")\n",
    "else:\n",
    "    print(f\"총 {c}개의 줄에서 0이 아닌 값이 있습니다.\")\n",
    "print(count)"
   ]
  },
  {
   "cell_type": "code",
   "execution_count": null,
   "metadata": {},
   "outputs": [],
   "source": [
    "import csv\n",
    "\n",
    "# 텍스트 파일 경로\n",
    "text_file_path = \"../Data/whyout_data/raw_data/user_video_output_total.txt\"\n",
    "csv_file_path = \"user_video.csv\"\n",
    "\n",
    "# 텍스트 파일을 읽기 모드로 열고 CSV 파일을 쓰기 모드로 열기\n",
    "with open(text_file_path, 'r') as text_file, open(csv_file_path, 'w', newline='') as csv_file:\n",
    "    # CSV writer 객체 생성\n",
    "    csv_writer = csv.writer(csv_file)\n",
    "    # 텍스트 파일의 각 줄을 읽어서 CSV 파일에 쓰기\n",
    "    for line in text_file:\n",
    "        # 줄에서 필요한 데이터 추출\n",
    "        data = line.strip().split(',')  # 예시: 공백을 기준으로 데이터를 분리\n",
    "        data = [int(item) for item in data]\n",
    "        # CSV 파일에 데이터 쓰기\n",
    "        csv_writer.writerow(data)\n",
    "\n",
    "print(f\"텍스트 파일 '{text_file_path}'을 CSV 파일 '{csv_file_path}'로 변환했습니다.\")"
   ]
  },
  {
   "cell_type": "code",
   "execution_count": null,
   "metadata": {},
   "outputs": [],
   "source": [
    "import csv\n",
    "\n",
    "# 텍스트 파일 경로\n",
    "text_file_path = \"../Data/whyout_data/raw_data/user_product_output_total.txt\"\n",
    "csv_file_path = \"col_user_product.csv\"\n",
    "\n",
    "# 텍스트 파일을 읽기 모드로 열고 CSV 파일을 쓰기 모드로 열기\n",
    "with open(text_file_path, 'r') as text_file, open(csv_file_path, 'w', newline='') as csv_file:\n",
    "    # CSV writer 객체 생성\n",
    "    csv_writer = csv.writer(csv_file)\n",
    "    \n",
    "    # 첫 줄을 읽어서 컬럼 수를 파악하고, 컬럼명을 생성\n",
    "    first_line = text_file.readline().strip().split(',')\n",
    "    column_names = [str(i) for i in range(len(first_line))]\n",
    "    csv_writer.writerow(column_names)\n",
    "    \n",
    "    # 첫 줄 데이터를 CSV 파일에 쓰기\n",
    "    first_line = [int(item) for item in first_line]\n",
    "    csv_writer.writerow(first_line)\n",
    "    \n",
    "    # 나머지 줄을 읽어서 CSV 파일에 쓰기\n",
    "    for line in text_file:\n",
    "        # 줄에서 필요한 데이터 추출\n",
    "        data = line.strip().split(',')\n",
    "        data = [int(item) for item in data]\n",
    "        # CSV 파일에 데이터 쓰기\n",
    "        csv_writer.writerow(data)\n",
    "\n",
    "print(f\"텍스트 파일 '{text_file_path}'을 CSV 파일 '{csv_file_path}'로 변환했습니다.\")"
   ]
  },
  {
   "cell_type": "code",
   "execution_count": null,
   "metadata": {},
   "outputs": [],
   "source": [
    "user_place = pd.read_csv('user_place.csv') # shape (31176,4697) 유저 x 장소 아이템 # 8756명이 장소를 평가하지 않음\n",
    "user_product = pd.read_csv('user_product.csv') # shape(31176,5834) 유저 x 상품 아이템\n",
    "user_video = pd.read_csv('user_video.csv') # shape (31176, 3250) 유저 x 영상 아이템"
   ]
  },
  {
   "cell_type": "code",
   "execution_count": null,
   "metadata": {},
   "outputs": [],
   "source": [
    "user_product = pd.read_csv('../Data/whyout_data/col_user_product.csv')"
   ]
  },
  {
   "cell_type": "code",
   "execution_count": null,
   "metadata": {},
   "outputs": [],
   "source": [
    "user_product1 = user_product.iloc[:,:-13]"
   ]
  },
  {
   "cell_type": "code",
   "execution_count": null,
   "metadata": {},
   "outputs": [],
   "source": [
    "user_product1.to_csv('col_user_product.csv', index=False)"
   ]
  },
  {
   "cell_type": "code",
   "execution_count": null,
   "metadata": {},
   "outputs": [],
   "source": [
    "user_product1.shape"
   ]
  },
  {
   "cell_type": "code",
   "execution_count": null,
   "metadata": {},
   "outputs": [],
   "source": [
    "user_product1"
   ]
  },
  {
   "cell_type": "code",
   "execution_count": null,
   "metadata": {},
   "outputs": [],
   "source": [
    "user_video = pd.read_csv('../Data/whyout_data/col_user_video.csv') # (31176, 3250)"
   ]
  },
  {
   "cell_type": "code",
   "execution_count": null,
   "metadata": {},
   "outputs": [],
   "source": [
    "user_video1 = user_video.iloc[:-1,:]"
   ]
  },
  {
   "cell_type": "code",
   "execution_count": null,
   "metadata": {},
   "outputs": [],
   "source": [
    "user_video1.to_csv('col_user_video.csv', index=False)"
   ]
  },
  {
   "cell_type": "code",
   "execution_count": null,
   "metadata": {},
   "outputs": [],
   "source": [
    "user_video1"
   ]
  },
  {
   "cell_type": "code",
   "execution_count": null,
   "metadata": {},
   "outputs": [],
   "source": [
    "user_place1 = pd.read_csv('user_place1.csv') # shape (31176,4697) 유저 x 장소 아이템 # 8756명이 장소를 평가하지 않음\n",
    "user_product1 = pd.read_csv('user_product1.csv') # shape(31176,5834) 유저 x 상품 아이템\n",
    "user_video1 = pd.read_csv('user_video1.csv') # shape (31176, 3250) 유저 x 영상 아이템"
   ]
  },
  {
   "cell_type": "code",
   "execution_count": null,
   "metadata": {},
   "outputs": [],
   "source": [
    "user_place1"
   ]
  },
  {
   "cell_type": "code",
   "execution_count": null,
   "metadata": {},
   "outputs": [],
   "source": [
    "# # 첫 번째 행을 제거한 DataFrame 생성\n",
    "# user = pd.read_csv('./whyout_data/raw_data/user.csv', header=1)\n",
    "# place = pd.read_csv('./whyout_data/raw_data/place.csv', header=1)\n",
    "# product = pd.read_csv('./whyout_data/raw_data/product.csv', header=1)\n",
    "# video = pd.read_csv('./whyout_data/raw_data/video.csv', header=1)\n",
    "\n",
    "# # 변경된 DataFrame을 새로운 CSV 파일로 저장할 수도 있습니다.\n",
    "# #user.to_csv('new_user.csv', index=False, encoding='utf-8-sig')\n",
    "# #place.to_csv('new_place.csv', index=False, encoding='utf-8-sig')\n",
    "# #product.to_csv('new_product.csv', index=False, encoding='utf-8-sig')\n",
    "# video.to_csv('new_video.csv', index=False, encoding='utf-8-sig')"
   ]
  }
 ],
 "metadata": {
  "kernelspec": {
   "display_name": "base",
   "language": "python",
   "name": "python3"
  },
  "language_info": {
   "codemirror_mode": {
    "name": "ipython",
    "version": 3
   },
   "file_extension": ".py",
   "mimetype": "text/x-python",
   "name": "python",
   "nbconvert_exporter": "python",
   "pygments_lexer": "ipython3",
   "version": "3.9.13"
  }
 },
 "nbformat": 4,
 "nbformat_minor": 2
}
