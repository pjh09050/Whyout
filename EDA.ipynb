{
 "cells": [
  {
   "cell_type": "code",
   "execution_count": null,
   "metadata": {},
   "outputs": [],
   "source": [
    "import pandas as pd\n",
    "import numpy as np\n",
    "import matplotlib.pyplot as plt"
   ]
  },
  {
   "cell_type": "code",
   "execution_count": null,
   "metadata": {},
   "outputs": [],
   "source": [
    "#place = pd.read_csv('../Data/whyout_data/place.csv') # (4697,10)\n",
    "#product = pd.read_csv('../Data/whyout_data/product.csv') # (5834,11)\n",
    "#video = pd.read_csv('../Data/whyout_data/video.csv') # (3250, 9)\n",
    "user_place = pd.read_csv('../Data/whyout_data/user_place.csv') # (31176,4697)\n",
    "user_product = pd.read_csv('../Data/whyout_data/user_product.csv') # (31176,5834)\n",
    "user_video = pd.read_csv('../Data/whyout_data/user_video.csv') # (31176, 3250)\n",
    "drop_user_place = pd.read_csv('../Data/whyout_data/drop_user_place.csv') # (22420,4697) \n",
    "drop_user_product = pd.read_csv('../Data/whyout_data/drop_user_product.csv') # (2996,5834)\n",
    "drop_user_video = pd.read_csv('../Data/whyout_data/drop_user_video.csv') # (11067, 3250)\n",
    "common_drop_user_place = pd.read_csv('../Data/whyout_data/common_drop_user_place.csv') # (25827,4697)\n",
    "common_drop_user_product = pd.read_csv('../Data/whyout_data/common_drop_user_product.csv') # (25827,5834)\n",
    "common_drop_user_video = pd.read_csv('../Data/whyout_data/common_drop_user_video.csv') # (25827, 3250)"
   ]
  },
  {
   "cell_type": "code",
   "execution_count": null,
   "metadata": {},
   "outputs": [],
   "source": [
    "user = pd.read_csv('../Data/whyout_data/user.csv') # (31177,13)"
   ]
  },
  {
   "cell_type": "code",
   "execution_count": null,
   "metadata": {},
   "outputs": [],
   "source": [
    "# # 나이 이상한 값 찾기\n",
    "# find_user_nan = user.index[user['나이'].isna() | (user['나이'] >= 100) | (user['나이'] <= 0)].tolist()\n",
    "\n",
    "# #print(find_user_nan)\n",
    "# print('전체 user 수:',len(user))\n",
    "# print('나이가 이상한 user 수:',len(find_user_nan))"
   ]
  },
  {
   "cell_type": "code",
   "execution_count": null,
   "metadata": {},
   "outputs": [],
   "source": [
    "# # 나이 그룹 분포 확인\n",
    "# df = user\n",
    "# df = df.dropna(subset=['나이'])\n",
    "# bins = [0, 10, 20, 30, 40, 50, 60, 70, 80, 90]\n",
    "# labels = ['유아', '10대', '20대', '30대', '40대', '50대', '60대', '70대', '80대']\n",
    "\n",
    "# df['Age Group'] = pd.cut(df['나이'], bins=bins, labels=labels, right=False)\n",
    "# age_group_distribution = df['Age Group'].value_counts().sort_index()\n",
    "\n",
    "# # Display the result\n",
    "# print(age_group_distribution)\n",
    "# df = df[(df['나이'] > 0) & (df['나이'] < 100)]\n",
    "# plt.figure(figsize=(16, 8))\n",
    "# plt.hist(df['나이'], bins=30, color='blue', edgecolor='black')\n",
    "# plt.title('Age Distribution')\n",
    "# plt.xlabel('Age')\n",
    "# plt.ylabel('Frequency')\n",
    "# plt.grid(True)\n",
    "# plt.show()\n",
    "# # df.to_csv('age_group_distribution.csv', encoding='utf-8-sig')"
   ]
  },
  {
   "cell_type": "code",
   "execution_count": null,
   "metadata": {},
   "outputs": [],
   "source": [
    "# 사용자의 평가 유무 확인\n",
    "def find_zero_indices(df):\n",
    "    return df.index[df.eq(0).all(axis=1)].tolist()\n",
    "\n",
    "place_zero_indices = find_zero_indices(user_place)\n",
    "product_zero_indices = find_zero_indices(user_product)\n",
    "video_zero_indices = find_zero_indices(user_video)\n",
    "\n",
    "common_zero_indices = set(place_zero_indices) & set(product_zero_indices) & set(video_zero_indices)\n",
    "#place_product_zero_indices = set(place_zero_indices) & set(product_zero_indices)\n",
    "#place_video_zero_indices = set(place_zero_indices) & set(video_zero_indices)\n",
    "#product_video_zero_indices = set(product_zero_indices) & set(video_zero_indices)\n",
    "\n",
    "print('장소를 평가하지 않은 사용자 수:',len(place_zero_indices))\n",
    "print('상품을 평가하지 않은 사용자 수:',len(product_zero_indices))\n",
    "print('영상을 평가하지 않은 사용자 수:',len(video_zero_indices))\n",
    "print('모두 평가하지 않은 사용자 수:',len(common_zero_indices))\n",
    "#print('장소 & 상품을 같이 평가하지 않은 사용자 수:',len(place_product_zero_indices))\n",
    "#print('장소 & 영상을 같이 평가하지 않은 사용자 수:',len(place_video_zero_indices))\n",
    "#print('상품 & 영상을 같이 평가하지 않은 사용자 수:',len(product_video_zero_indices))"
   ]
  },
  {
   "cell_type": "code",
   "execution_count": null,
   "metadata": {},
   "outputs": [],
   "source": [
    "# # #모두 평가하지 않은 사용자 행 삭제\n",
    "# drop_user_place_idx = user.drop(place_zero_indices)\n",
    "# drop_user_product_idx = user.drop(product_zero_indices)\n",
    "# drop_user_video_idx = user.drop(video_zero_indices)\n",
    "# common_drop_user_idx = user.drop(common_zero_indices)\n",
    "# # drop_user_place = user_place.drop(common_zero_indices)\n",
    "# # drop_user_product = user_product.drop(common_zero_indices)\n",
    "# # drop_user_video = user_video.drop(common_zero_indices)\n",
    "\n",
    "# # drop_user_place.to_csv('common_drop_user_place.csv', index=False)\n",
    "# # drop_user_product.to_csv('common_user_product.csv', index=False)\n",
    "# # drop_user_video.to_csv('common_user_video.csv', index=False)\n",
    "# drop_user_place_idx.to_csv('drop_user_place_idx.csv', index=False)\n",
    "# drop_user_product_idx.to_csv('drop_user_product_idx.csv', index=False)\n",
    "# drop_user_video_idx.to_csv('drop_user_video_idx.csv', index=False)\n",
    "# common_drop_user_idx.to_csv('common_drop_user_idx.csv', index=False)"
   ]
  },
  {
   "cell_type": "code",
   "execution_count": null,
   "metadata": {},
   "outputs": [],
   "source": [
    "# 텍스트 파일 경로\n",
    "file_path = \"../Data/whyout_data/raw_data/user_poi_output_total.txt\"\n",
    "c = 0  # 카운터 변수 초기화\n",
    "count = 0\n",
    "# 파일을 읽기 모드로 열기\n",
    "with open(file_path, 'r') as file:\n",
    "    # 파일의 각 줄을 순회하면서 검색\n",
    "    for line_number, line in enumerate(file, start=1):\n",
    "        count += 1\n",
    "        # 현재 줄을 쉼표로 분리하고 각 요소가 '0'이 아닌지 확인\n",
    "        if any(item != '0' for item in line.strip().split(',')):\n",
    "            c += 1\n",
    "            print(f\"0이 아닌 값을 발견했습니다. 파일: {file_path}, 줄: {line_number}, 내용: {line}\")\n",
    "\n",
    "# 모든 줄을 순회한 후 결과 출력\n",
    "if c == 0:\n",
    "    print(\"파일에서 0이 아닌 값을 발견하지 못했습니다.\")\n",
    "else:\n",
    "    print(f\"총 {c}개의 줄에서 0이 아닌 값이 있습니다.\")\n",
    "print(count)"
   ]
  },
  {
   "cell_type": "code",
   "execution_count": null,
   "metadata": {},
   "outputs": [],
   "source": [
    "# # idx missing value 찾기\n",
    "# df = video.sort_values('idx')\n",
    "# # 연속된 숫자 생성 (전체 범위의 시작과 끝을 기반으로)\n",
    "# full_range = pd.Series(range(df['idx'].min(), df['idx'].max() + 1))\n",
    "# # 누락된 숫자 찾기\n",
    "# missing_numbers = full_range[~full_range.isin(df['idx'])]\n",
    "# print(len(missing_numbers))"
   ]
  },
  {
   "cell_type": "code",
   "execution_count": null,
   "metadata": {},
   "outputs": [],
   "source": []
  },
  {
   "cell_type": "code",
   "execution_count": null,
   "metadata": {},
   "outputs": [],
   "source": [
    "# # NaN 값 찾기\n",
    "# nan_indices = np.where(place['주변환경'].isna())[0]\n",
    "# count = 0\n",
    "\n",
    "# if len(nan_indices) > 0:\n",
    "#     print(f'총 행 수: {len(place)}, NaN 행 수: {len(nan_indices)}')\n",
    "#     print(\"해당 열에서 NaN 값이 발견된 위치는 다음과 같습니다:\")\n",
    "#     for idx in nan_indices:\n",
    "#         print(f\"인덱스: {idx}, 값: NaN\")\n",
    "# else:\n",
    "#     print(\"해당 열에 NaN 값이 없습니다.\")"
   ]
  },
  {
   "cell_type": "code",
   "execution_count": null,
   "metadata": {},
   "outputs": [],
   "source": [
    "# # 행, 열 이름 생성\n",
    "# # new_index = [str(i) for i in range(user_place.shape[0])]\n",
    "# # user_place.index = new_index\n",
    "\n",
    "# new_columns = [str(i) for i in range(user_place.shape[1])]\n",
    "# user_place.columns = new_columns\n",
    "\n",
    "# # 변경된 데이터프레임 저장\n",
    "# user_place.to_csv('index_user_place.csv', index=False, header=1,encoding='utf-8-sig')"
   ]
  },
  {
   "cell_type": "code",
   "execution_count": null,
   "metadata": {},
   "outputs": [],
   "source": [
    "# # 행, 열 이름 생성\n",
    "# new_index = [str(i) for i in range(user_product.shape[0])]\n",
    "# user_product.index = new_index\n",
    "\n",
    "# new_columns = [str(i) for i in range(user_product.shape[1])]\n",
    "# user_product.columns = new_columns\n",
    "\n",
    "# # 변경된 데이터프레임 저장\n",
    "# user_product.to_csv('index_user_product.csv', index=True, encoding='utf-8-sig') "
   ]
  },
  {
   "cell_type": "code",
   "execution_count": null,
   "metadata": {},
   "outputs": [],
   "source": [
    "# # 행, 열 이름 생성\n",
    "# new_index = [str(i) for i in range(user_video.shape[0])]\n",
    "# user_video.index = new_index\n",
    "\n",
    "# new_columns = [str(i) for i in range(user_video.shape[1])]\n",
    "# user_video.columns = new_columns\n",
    "\n",
    "# # 변경된 데이터프레임 저장\n",
    "# user_video.to_csv('index_user_video.csv', index=True, encoding='utf-8-sig') "
   ]
  },
  {
   "cell_type": "code",
   "execution_count": null,
   "metadata": {},
   "outputs": [],
   "source": [
    "# 유저가 장소에 대한 평가 유무\n",
    "# 0의 개수\n",
    "# zero_count = (user_place == 0).sum(axis=1)\n",
    "# total_zero_count = zero_count.sum()\n",
    "\n",
    "# 0이 아닌 숫자의 개수\n",
    "non_zero_count = (user_place != 0).sum(axis=1)\n",
    "# total_non_zero_count = non_zero_count.sum()\n",
    "\n",
    "# 장소 평가 유무\n",
    "count_zero = (non_zero_count == 0).sum()\n",
    "count_non_zero = (non_zero_count != 0).sum()\n",
    "\n",
    "# print(f\"0의 개수: {zero_count}\")\n",
    "# print(f\"0의 총 개수: {total_zero_count}\")\n",
    "#print(f\"0이 아닌 숫자의 개수: {non_zero_count}\")\n",
    "# print(f\"0이 아닌 숫자의 총 개수: {total_non_zero_count}\")\n",
    "print(f\"장소에 대한 평가가 없는 유저 수: {count_zero}\")\n",
    "print(f\"장소에 대한 평가가 있는 유저 수: {count_non_zero}\")"
   ]
  },
  {
   "cell_type": "code",
   "execution_count": null,
   "metadata": {},
   "outputs": [],
   "source": [
    "# 유저가 상품에 대한 평가 유무\n",
    "# 0의 개수\n",
    "# zero_count = (user_product == 0).sum(axis=1)\n",
    "# total_zero_count = zero_count.sum()\n",
    "\n",
    "# 0이 아닌 숫자의 개수\n",
    "non_zero_count = (user_product != 0).sum(axis=1)\n",
    "# total_non_zero_count = non_zero_count.sum()\n",
    "\n",
    "# 상품 평가 유무\n",
    "count_zero = (non_zero_count == 0).sum()\n",
    "count_non_zero = (non_zero_count != 0).sum()\n",
    "\n",
    "# print(f\"0의 개수: {zero_count}\")\n",
    "# print(f\"0의 총 개수: {total_zero_count}\")\n",
    "# print(f\"0이 아닌 숫자의 개수: {non_zero_count}\")\n",
    "# print(f\"0이 아닌 숫자의 총 개수: {total_non_zero_count}\")\n",
    "print(f\"상품에 대한 평가가 없는 유저 수: {count_zero}\")\n",
    "print(f\"상품에 대한 평가가 있는 유저 수: {count_non_zero}\")"
   ]
  },
  {
   "cell_type": "code",
   "execution_count": null,
   "metadata": {},
   "outputs": [],
   "source": [
    "# 유저가 영상에 대한 평가 유무\n",
    "# 0의 개수\n",
    "# zero_count = (user_video == 0).sum(axis=1)\n",
    "# total_zero_count = zero_count.sum()\n",
    "\n",
    "# 0이 아닌 숫자의 개수\n",
    "non_zero_count = (user_video != 0).sum(axis=1)\n",
    "# total_non_zero_count = non_zero_count.sum()\n",
    "\n",
    "# 영상 평가 유무\n",
    "count_zero = (non_zero_count == 0).sum()\n",
    "count_non_zero = (non_zero_count != 0).sum()\n",
    "\n",
    "# print(f\"0의 개수: {zero_count}\")\n",
    "# print(f\"0의 총 개수: {total_zero_count}\")\n",
    "#print(f\"0이 아닌 숫자의 개수: {non_zero_count}\")\n",
    "# print(f\"0이 아닌 숫자의 총 개수: {total_non_zero_count}\")\n",
    "print(f\"영상에 대한 평가가 없는 유저 수: {count_zero}\")\n",
    "print(f\"영상에 대한 평가가 있는 유저 수: {count_non_zero}\")"
   ]
  },
  {
   "cell_type": "code",
   "execution_count": null,
   "metadata": {},
   "outputs": [],
   "source": [
    "# # 유저별 최대값을 구하여 그 값으로 나누어 정규화\n",
    "# df = index_null_del_user_place\n",
    "# normalized_df = df.div(df.max(axis=1), axis=0)\n",
    "# normalized_df.fillna(0, inplace=True)\n",
    "# normalized_df.to_csv('normal_index_null_del_user_place.csv')"
   ]
  }
 ],
 "metadata": {
  "kernelspec": {
   "display_name": "base",
   "language": "python",
   "name": "python3"
  },
  "language_info": {
   "codemirror_mode": {
    "name": "ipython",
    "version": 3
   },
   "file_extension": ".py",
   "mimetype": "text/x-python",
   "name": "python",
   "nbconvert_exporter": "python",
   "pygments_lexer": "ipython3",
   "version": "3.7.15"
  }
 },
 "nbformat": 4,
 "nbformat_minor": 2
}
