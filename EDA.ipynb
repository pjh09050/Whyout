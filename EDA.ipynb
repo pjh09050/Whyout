{
 "cells": [
  {
   "cell_type": "code",
   "execution_count": 3,
   "metadata": {},
   "outputs": [],
   "source": [
    "import pandas as pd\n",
    "import numpy as np"
   ]
  },
  {
   "cell_type": "code",
   "execution_count": 23,
   "metadata": {},
   "outputs": [],
   "source": [
    "user = pd.read_csv('./whyout_data/user.csv') # shape(31178,13), user idx에서 2354개가 비어있음\n",
    "place = pd.read_csv('./whyout_data/place.csv') # shape(4697,10), place idx에서 23개가 비어있음\n",
    "product = pd.read_csv('./whyout_data/product.csv') # shape(5834,11), product idx에서 538개가 비어있음\n",
    "video = pd.read_csv('./whyout_data/video.csv') # shape(3250, 9), video idx에서 315개가 비어있음\n",
    "user_place = pd.read_csv('./whyout_data/user_place.csv', index_col=0) # shape (31176,4697) 유저 x 장소 아이템 # 8756명이 장소를 평가하지 않음\n",
    "user_product = pd.read_csv('./whyout_data/user_product.csv', index_col=0) # shape(31176,5834) 유저 x 상품 아이템\n",
    "user_video = pd.read_csv('./whyout_data/user_video.csv', index_col=0) # shape (31177, 3250) 유저 x 영상 아이템"
   ]
  },
  {
   "cell_type": "code",
   "execution_count": 20,
   "metadata": {},
   "outputs": [],
   "source": [
    "# user_product = user_product.apply(pd.to_numeric, errors='coerce')"
   ]
  },
  {
   "cell_type": "code",
   "execution_count": 22,
   "metadata": {},
   "outputs": [],
   "source": [
    "# user_product.to_csv('updated_user_product.csv', index=True, encoding='utf-8-sig') "
   ]
  },
  {
   "cell_type": "code",
   "execution_count": 6,
   "metadata": {},
   "outputs": [],
   "source": [
    "# # idx missing value 찾기\n",
    "# df = video.sort_values('idx')\n",
    "# # 연속된 숫자 생성 (전체 범위의 시작과 끝을 기반으로)\n",
    "# full_range = pd.Series(range(df['idx'].min(), df['idx'].max() + 1))\n",
    "# # 누락된 숫자 찾기\n",
    "# missing_numbers = full_range[~full_range.isin(df['idx'])]\n",
    "# print(len(missing_numbers))"
   ]
  },
  {
   "cell_type": "code",
   "execution_count": 7,
   "metadata": {},
   "outputs": [],
   "source": [
    "# # NaN 값 찾기\n",
    "# nan_indices = np.where(place['주변환경'].isna())[0]\n",
    "# count = 0\n",
    "\n",
    "# if len(nan_indices) > 0:\n",
    "#     print(f'총 행 수: {len(place)}, NaN 행 수: {len(nan_indices)}')\n",
    "#     print(\"해당 열에서 NaN 값이 발견된 위치는 다음과 같습니다:\")\n",
    "#     for idx in nan_indices:\n",
    "#         print(f\"인덱스: {idx}, 값: NaN\")\n",
    "# else:\n",
    "#     print(\"해당 열에 NaN 값이 없습니다.\")"
   ]
  },
  {
   "cell_type": "code",
   "execution_count": 8,
   "metadata": {},
   "outputs": [],
   "source": [
    "# # 행, 열 이름 변경\n",
    "# new_index = [str(i+1) for i in range(user_video.shape[0])]\n",
    "# user_video.index = new_index\n",
    "\n",
    "# new_columns = [str(i+1) for i in range(user_video.shape[1])]\n",
    "# user_video.columns = new_columns\n",
    "\n",
    "# # 변경된 데이터프레임 저장\n",
    "# user_video.to_csv('updated_user_video.csv', index=True, encoding='utf-8-sig') "
   ]
  },
  {
   "cell_type": "code",
   "execution_count": 24,
   "metadata": {},
   "outputs": [
    {
     "name": "stdout",
     "output_type": "stream",
     "text": [
      "0의 개수: 1        4697\n",
      "2        4697\n",
      "3        4696\n",
      "4        4697\n",
      "5        4681\n",
      "         ... \n",
      "31172    4697\n",
      "31173    4697\n",
      "31174    4697\n",
      "31175    4697\n",
      "31176    4697\n",
      "Length: 31176, dtype: int64\n",
      "0의 총 개수: 145966114\n",
      "=====================================\n",
      "0이 아닌 숫자의 개수: 1         0\n",
      "2         0\n",
      "3         1\n",
      "4         0\n",
      "5        16\n",
      "         ..\n",
      "31172     0\n",
      "31173     0\n",
      "31174     0\n",
      "31175     0\n",
      "31176     0\n",
      "Length: 31176, dtype: int64\n",
      "0이 아닌 숫자의 총 개수: 467558\n",
      "장소에 대한 평가가 없는 유저 수: 8756\n",
      "장소에 대한 평가가 있는 유저 수: 22420\n"
     ]
    }
   ],
   "source": [
    "# 유저가 장소에 대한 평가 유무\n",
    "# 0의 개수\n",
    "zero_count = (user_place == 0).sum(axis=1)\n",
    "total_zero_count = zero_count.sum()\n",
    "\n",
    "# 0이 아닌 숫자의 개수\n",
    "non_zero_count = (user_place != 0).sum(axis=1)\n",
    "total_non_zero_count = non_zero_count.sum()\n",
    "\n",
    "# 장소 평가 유무\n",
    "count_zero = (non_zero_count == 0).sum()\n",
    "count_non_zero = (non_zero_count != 0).sum()\n",
    "\n",
    "print(f\"0의 개수: {zero_count}\")\n",
    "print(f\"0의 총 개수: {total_zero_count}\")\n",
    "print(\"=====================================\")\n",
    "print(f\"0이 아닌 숫자의 개수: {non_zero_count}\")\n",
    "print(f\"0이 아닌 숫자의 총 개수: {total_non_zero_count}\")\n",
    "print(f\"장소에 대한 평가가 없는 유저 수: {count_zero}\")\n",
    "print(f\"장소에 대한 평가가 있는 유저 수: {count_non_zero}\")"
   ]
  },
  {
   "cell_type": "code",
   "execution_count": 27,
   "metadata": {},
   "outputs": [
    {
     "name": "stdout",
     "output_type": "stream",
     "text": [
      "0의 개수: 1        5834\n",
      "2        5834\n",
      "3        5834\n",
      "4        5834\n",
      "5        5833\n",
      "         ... \n",
      "31172    5830\n",
      "31173    5834\n",
      "31174    5834\n",
      "31175    5834\n",
      "31176    5833\n",
      "Length: 31176, dtype: int64\n",
      "0의 총 개수: 181873300\n",
      "=====================================\n",
      "0이 아닌 숫자의 개수: 1        0\n",
      "2        0\n",
      "3        0\n",
      "4        0\n",
      "5        1\n",
      "        ..\n",
      "31172    4\n",
      "31173    0\n",
      "31174    0\n",
      "31175    0\n",
      "31176    1\n",
      "Length: 31176, dtype: int64\n",
      "0이 아닌 숫자의 총 개수: 7484\n",
      "상품에 대한 평가가 없는 유저 수: 28180\n",
      "상품에 대한 평가가 있는 유저 수: 2996\n"
     ]
    }
   ],
   "source": [
    "# 유저가 상품에 대한 평가 유무\n",
    "# 0의 개수\n",
    "zero_count = (user_product == 0).sum(axis=1)\n",
    "total_zero_count = zero_count.sum()\n",
    "\n",
    "# 0이 아닌 숫자의 개수\n",
    "non_zero_count = (user_product != 0).sum(axis=1)\n",
    "total_non_zero_count = non_zero_count.sum()\n",
    "\n",
    "# 상품 평가 유무\n",
    "count_zero = (non_zero_count == 0).sum()\n",
    "count_non_zero = (non_zero_count != 0).sum()\n",
    "\n",
    "print(f\"0의 개수: {zero_count}\")\n",
    "print(f\"0의 총 개수: {total_zero_count}\")\n",
    "print(\"=====================================\")\n",
    "print(f\"0이 아닌 숫자의 개수: {non_zero_count}\")\n",
    "print(f\"0이 아닌 숫자의 총 개수: {total_non_zero_count}\")\n",
    "print(f\"상품에 대한 평가가 없는 유저 수: {count_zero}\")\n",
    "print(f\"상품에 대한 평가가 있는 유저 수: {count_non_zero}\")"
   ]
  },
  {
   "cell_type": "code",
   "execution_count": 26,
   "metadata": {},
   "outputs": [
    {
     "name": "stdout",
     "output_type": "stream",
     "text": [
      "0의 개수: 1        3250\n",
      "2        3247\n",
      "3        3246\n",
      "4        3250\n",
      "5        3227\n",
      "         ... \n",
      "31173    3249\n",
      "31174    3250\n",
      "31175    3250\n",
      "31176    3250\n",
      "31177    3250\n",
      "Length: 31177, dtype: int64\n",
      "0의 총 개수: 101214098\n",
      "=====================================\n",
      "0이 아닌 숫자의 개수: 1         0\n",
      "2         3\n",
      "3         4\n",
      "4         0\n",
      "5        23\n",
      "         ..\n",
      "31173     1\n",
      "31174     0\n",
      "31175     0\n",
      "31176     0\n",
      "31177     0\n",
      "Length: 31177, dtype: int64\n",
      "0이 아닌 숫자의 총 개수: 111152\n",
      "영상에 대한 평가가 없는 유저 수: 20110\n",
      "영상에 대한 평가가 있는 유저 수: 11067\n"
     ]
    }
   ],
   "source": [
    "# 유저가 영상에 대한 평가 유무\n",
    "# 0의 개수\n",
    "zero_count = (user_video == 0).sum(axis=1)\n",
    "total_zero_count = zero_count.sum()\n",
    "\n",
    "# 0이 아닌 숫자의 개수\n",
    "non_zero_count = (user_video != 0).sum(axis=1)\n",
    "total_non_zero_count = non_zero_count.sum()\n",
    "\n",
    "# 영상 평가 유무\n",
    "count_zero = (non_zero_count == 0).sum()\n",
    "count_non_zero = (non_zero_count != 0).sum()\n",
    "\n",
    "print(f\"0의 개수: {zero_count}\")\n",
    "print(f\"0의 총 개수: {total_zero_count}\")\n",
    "print(\"=====================================\")\n",
    "print(f\"0이 아닌 숫자의 개수: {non_zero_count}\")\n",
    "print(f\"0이 아닌 숫자의 총 개수: {total_non_zero_count}\")\n",
    "print(f\"영상에 대한 평가가 없는 유저 수: {count_zero}\")\n",
    "print(f\"영상에 대한 평가가 있는 유저 수: {count_non_zero}\")"
   ]
  },
  {
   "cell_type": "code",
   "execution_count": null,
   "metadata": {},
   "outputs": [],
   "source": []
  }
 ],
 "metadata": {
  "kernelspec": {
   "display_name": "base",
   "language": "python",
   "name": "python3"
  },
  "language_info": {
   "codemirror_mode": {
    "name": "ipython",
    "version": 3
   },
   "file_extension": ".py",
   "mimetype": "text/x-python",
   "name": "python",
   "nbconvert_exporter": "python",
   "pygments_lexer": "ipython3",
   "version": "3.12.3"
  }
 },
 "nbformat": 4,
 "nbformat_minor": 2
}
