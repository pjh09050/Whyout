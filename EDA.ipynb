{
 "cells": [
  {
   "cell_type": "code",
   "execution_count": 1,
   "metadata": {},
   "outputs": [],
   "source": [
    "import pandas as pd\n",
    "import numpy as np"
   ]
  },
  {
   "cell_type": "code",
   "execution_count": 41,
   "metadata": {},
   "outputs": [],
   "source": [
    "user = pd.read_csv('./whyout_data/user.csv') # shape(31178,13), user idx에서 2354개가 비어있음\n",
    "place = pd.read_csv('./whyout_data/place.csv') # shape(4697,10), place idx에서 23개가 비어있음\n",
    "product = pd.read_csv('./whyout_data/product.csv') # shape(5834,11), product idx에서 538개가 비어있음\n",
    "video = pd.read_csv('./whyout_data/video.csv') # shape(3250, 9), video idx에서 315개가 비어있음\n",
    "user_place = pd.read_csv('./whyout_data/user_place.csv') # shape (31176,4697) 유저 x 장소 아이템 # 8756명이 장소를 평가하지 않음\n",
    "user_product = pd.read_csv('./whyout_data/user_product.csv') # shape(31176,5834) 유저 x 상품 아이템\n",
    "user_video = pd.read_csv('./whyout_data/user_video.csv') # shape (31177, 3250) 유저 x 영상 아이템"
   ]
  },
  {
   "cell_type": "code",
   "execution_count": 6,
   "metadata": {},
   "outputs": [],
   "source": [
    "# # idx missing value 찾기\n",
    "# df = video.sort_values('idx')\n",
    "# # 연속된 숫자 생성 (전체 범위의 시작과 끝을 기반으로)\n",
    "# full_range = pd.Series(range(df['idx'].min(), df['idx'].max() + 1))\n",
    "# # 누락된 숫자 찾기\n",
    "# missing_numbers = full_range[~full_range.isin(df['idx'])]\n",
    "# print(len(missing_numbers))"
   ]
  },
  {
   "cell_type": "code",
   "execution_count": 7,
   "metadata": {},
   "outputs": [],
   "source": [
    "# # NaN 값 찾기\n",
    "# nan_indices = np.where(place['주변환경'].isna())[0]\n",
    "# count = 0\n",
    "\n",
    "# if len(nan_indices) > 0:\n",
    "#     print(f'총 행 수: {len(place)}, NaN 행 수: {len(nan_indices)}')\n",
    "#     print(\"해당 열에서 NaN 값이 발견된 위치는 다음과 같습니다:\")\n",
    "#     for idx in nan_indices:\n",
    "#         print(f\"인덱스: {idx}, 값: NaN\")\n",
    "# else:\n",
    "#     print(\"해당 열에 NaN 값이 없습니다.\")"
   ]
  },
  {
   "cell_type": "code",
   "execution_count": 33,
   "metadata": {},
   "outputs": [],
   "source": [
    "# # 행, 열 이름 생성\n",
    "# new_index = [str(i+1) for i in range(user_place.shape[0])]\n",
    "# user_place.index = new_index\n",
    "\n",
    "# new_columns = [str(i+1) for i in range(user_place.shape[1])]\n",
    "# user_place.columns = new_columns\n",
    "\n",
    "# # 변경된 데이터프레임 저장\n",
    "# user_place.to_csv('updated_user_place.csv', index=True, encoding='utf-8-sig') "
   ]
  },
  {
   "cell_type": "code",
   "execution_count": 42,
   "metadata": {},
   "outputs": [
    {
     "name": "stdout",
     "output_type": "stream",
     "text": [
      "(31176, 4697)\n",
      "(31176, 5834)\n",
      "(31177, 3250)\n"
     ]
    }
   ],
   "source": [
    "# 행, 열 이름 생성하느라 1차원씩 증가함\n",
    "print(user_place.shape)\n",
    "print(user_product.shape)\n",
    "print(user_video.shape)"
   ]
  },
  {
   "cell_type": "code",
   "execution_count": 43,
   "metadata": {},
   "outputs": [
    {
     "name": "stdout",
     "output_type": "stream",
     "text": [
      "0이 아닌 숫자의 개수: 0         0\n",
      "1         0\n",
      "2         1\n",
      "3         0\n",
      "4        16\n",
      "         ..\n",
      "31171     0\n",
      "31172     0\n",
      "31173     0\n",
      "31174     0\n",
      "31175     0\n",
      "Length: 31176, dtype: int64\n",
      "장소에 대한 평가가 없는 유저 수: 8756\n",
      "장소에 대한 평가가 있는 유저 수: 22420\n"
     ]
    }
   ],
   "source": [
    "# 유저가 장소에 대한 평가 유무\n",
    "# 0의 개수\n",
    "# zero_count = (user_place == 0).sum(axis=1)\n",
    "# total_zero_count = zero_count.sum()\n",
    "\n",
    "# 0이 아닌 숫자의 개수\n",
    "non_zero_count = (user_place != 0).sum(axis=1)\n",
    "# total_non_zero_count = non_zero_count.sum()\n",
    "\n",
    "# 장소 평가 유무\n",
    "count_zero = (non_zero_count == 0).sum()\n",
    "count_non_zero = (non_zero_count != 0).sum()\n",
    "\n",
    "# print(f\"0의 개수: {zero_count}\")\n",
    "# print(f\"0의 총 개수: {total_zero_count}\")\n",
    "print(f\"0이 아닌 숫자의 개수: {non_zero_count}\")\n",
    "# print(f\"0이 아닌 숫자의 총 개수: {total_non_zero_count}\")\n",
    "print(f\"장소에 대한 평가가 없는 유저 수: {count_zero}\")\n",
    "print(f\"장소에 대한 평가가 있는 유저 수: {count_non_zero}\")"
   ]
  },
  {
   "cell_type": "code",
   "execution_count": 44,
   "metadata": {},
   "outputs": [
    {
     "name": "stdout",
     "output_type": "stream",
     "text": [
      "0이 아닌 숫자의 개수: 0        0\n",
      "1        0\n",
      "2        0\n",
      "3        0\n",
      "4        1\n",
      "        ..\n",
      "31171    4\n",
      "31172    0\n",
      "31173    0\n",
      "31174    0\n",
      "31175    1\n",
      "Length: 31176, dtype: int64\n",
      "상품에 대한 평가가 없는 유저 수: 28180\n",
      "상품에 대한 평가가 있는 유저 수: 2996\n"
     ]
    }
   ],
   "source": [
    "# 유저가 상품에 대한 평가 유무\n",
    "# 0의 개수\n",
    "# zero_count = (user_product == 0).sum(axis=1)\n",
    "# total_zero_count = zero_count.sum()\n",
    "\n",
    "# 0이 아닌 숫자의 개수\n",
    "non_zero_count = (user_product != 0).sum(axis=1)\n",
    "# total_non_zero_count = non_zero_count.sum()\n",
    "\n",
    "# 상품 평가 유무\n",
    "count_zero = (non_zero_count == 0).sum()\n",
    "count_non_zero = (non_zero_count != 0).sum()\n",
    "\n",
    "# print(f\"0의 개수: {zero_count}\")\n",
    "# print(f\"0의 총 개수: {total_zero_count}\")\n",
    "print(f\"0이 아닌 숫자의 개수: {non_zero_count}\")\n",
    "# print(f\"0이 아닌 숫자의 총 개수: {total_non_zero_count}\")\n",
    "print(f\"상품에 대한 평가가 없는 유저 수: {count_zero}\")\n",
    "print(f\"상품에 대한 평가가 있는 유저 수: {count_non_zero}\")"
   ]
  },
  {
   "cell_type": "code",
   "execution_count": 45,
   "metadata": {},
   "outputs": [
    {
     "name": "stdout",
     "output_type": "stream",
     "text": [
      "0이 아닌 숫자의 개수: 0         0\n",
      "1         3\n",
      "2         4\n",
      "3         0\n",
      "4        23\n",
      "         ..\n",
      "31172     1\n",
      "31173     0\n",
      "31174     0\n",
      "31175     0\n",
      "31176     0\n",
      "Length: 31177, dtype: int64\n",
      "영상에 대한 평가가 없는 유저 수: 20110\n",
      "영상에 대한 평가가 있는 유저 수: 11067\n"
     ]
    }
   ],
   "source": [
    "# 유저가 영상에 대한 평가 유무\n",
    "# 0의 개수\n",
    "# zero_count = (user_video == 0).sum(axis=1)\n",
    "# total_zero_count = zero_count.sum()\n",
    "\n",
    "# 0이 아닌 숫자의 개수\n",
    "non_zero_count = (user_video != 0).sum(axis=1)\n",
    "# total_non_zero_count = non_zero_count.sum()\n",
    "\n",
    "# 영상 평가 유무\n",
    "count_zero = (non_zero_count == 0).sum()\n",
    "count_non_zero = (non_zero_count != 0).sum()\n",
    "\n",
    "# print(f\"0의 개수: {zero_count}\")\n",
    "# print(f\"0의 총 개수: {total_zero_count}\")\n",
    "print(f\"0이 아닌 숫자의 개수: {non_zero_count}\")\n",
    "# print(f\"0이 아닌 숫자의 총 개수: {total_non_zero_count}\")\n",
    "print(f\"영상에 대한 평가가 없는 유저 수: {count_zero}\")\n",
    "print(f\"영상에 대한 평가가 있는 유저 수: {count_non_zero}\")"
   ]
  }
 ],
 "metadata": {
  "kernelspec": {
   "display_name": "base",
   "language": "python",
   "name": "python3"
  },
  "language_info": {
   "codemirror_mode": {
    "name": "ipython",
    "version": 3
   },
   "file_extension": ".py",
   "mimetype": "text/x-python",
   "name": "python",
   "nbconvert_exporter": "python",
   "pygments_lexer": "ipython3",
   "version": "3.9.13"
  }
 },
 "nbformat": 4,
 "nbformat_minor": 2
}
