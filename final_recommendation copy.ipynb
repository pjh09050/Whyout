{
 "cells": [
  {
   "cell_type": "code",
   "execution_count": 3,
   "metadata": {},
   "outputs": [],
   "source": [
    "import numpy as np\n",
    "from new_user_similarity import find_similar_index\n",
    "from recommend_data_road import get_recommended_items\n",
    "from load_data import *\n",
    "import warnings\n",
    "warnings.filterwarnings(\"ignore\")"
   ]
  },
  {
   "cell_type": "code",
   "execution_count": 58,
   "metadata": {},
   "outputs": [
    {
     "name": "stdout",
     "output_type": "stream",
     "text": [
      "1. user 12에게 추천해줄 10개 video idx : [3159, 299, 3495, 3564, 1500, 3276, 1531, 3566, 1507, 514]\n"
     ]
    }
   ],
   "source": [
    "# 신규 유저는 del 하고 관심항목 작성\n",
    "user_id = 12\n",
    "new_user_item = [1,0,0]\n",
    "new_user_outdoor = [0,0,0,0,0,0,0,0,0,1]\n",
    "num_recommendations = 10\n",
    "case2_dict = { 'place' : [case2_sgd_rating_place, place, case2_user_place, case2_user_place_idx, case2_user_latent_place, user_place],\n",
    "         'video' : [case2_sgd_rating_video, video, case2_user_video, case2_user_video_idx, case2_user_latent_video, user_video],\n",
    "         'product' : [case2_sgd_rating_product, product, case2_user_product, case2_user_product_idx, case2_user_latent_product, user_product]}\n",
    "item = 'video'\n",
    "item_list = list(case2_dict.keys())\n",
    "\n",
    "# Case 2만 구현\n",
    "# if : 기존 유저, else : 신규 유저 구분하기\n",
    "if user_id in user['idx'].values:\n",
    "    recomm_list = get_recommended_items(user_id, item, item_list, case2_dict, num_recommendations)\n",
    "    #print(f\"user {user_id}에게 추천해줄 {10}개 {item} idx : {recomm_list}\")\n",
    "else:\n",
    "    exact_match_indices = find_similar_index(user_interest, new_user_item, new_user_outdoor)\n",
    "    if isinstance(exact_match_indices, (int, np.integer)):\n",
    "        user_id = int(user_interest[user_interest.index == exact_match_indices].iloc[:,0])\n",
    "    else:\n",
    "        final_match_idx = []\n",
    "        for i in exact_match_indices:\n",
    "            i = int(user_interest[user_interest.index == i].iloc[:,0])\n",
    "            if i in case2_dict[item][3]['idx'].values:\n",
    "                final_match_idx.append(i)\n",
    "        print(f'{item}에 대한 행동이 있는 user index : {final_match_idx}')\n",
    "        # 행동이 가장 많은 유저를 선택하는 부분\n",
    "        if final_match_idx:\n",
    "            # final_match_idx 중 drop_user_place에서 가장 행동이 많은 유저 선택\n",
    "            user_actions = case2_dict[item][5].loc[exact_match_indices].apply(lambda row : (row != 0).sum(), axis=1)\n",
    "            match_user_id = int(user_interest[user_interest.index == user_actions.idxmax()].iloc[:,0])\n",
    "            print(f'{item}에 대한 행동이 가장 많은 유저 : user {match_user_id}')\n",
    "\n",
    "    recom_list2 = get_recommended_items(match_user_id, item, item_list, case2_dict, num_recommendations)\n",
    "    print(f\"user {user_id}에게 추천해줄 {num_recommendations}개 {item} idx : {recom_list2}\")\n"
   ]
  }
 ],
 "metadata": {
  "kernelspec": {
   "display_name": "3_7",
   "language": "python",
   "name": "python3"
  },
  "language_info": {
   "codemirror_mode": {
    "name": "ipython",
    "version": 3
   },
   "file_extension": ".py",
   "mimetype": "text/x-python",
   "name": "python",
   "nbconvert_exporter": "python",
   "pygments_lexer": "ipython3",
   "version": "3.9.13"
  }
 },
 "nbformat": 4,
 "nbformat_minor": 2
}
