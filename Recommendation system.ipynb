{
 "cells": [
  {
   "cell_type": "code",
   "execution_count": null,
   "metadata": {
    "scrolled": true
   },
   "outputs": [],
   "source": [
    "pip install scikit-surprise"
   ]
  },
  {
   "cell_type": "code",
   "execution_count": null,
   "metadata": {},
   "outputs": [],
   "source": [
    "from surprise import SVD\n",
    "from surprise import Dataset\n",
    "from surprise.model_selection import cross_validate"
   ]
  },
  {
   "cell_type": "code",
   "execution_count": null,
   "metadata": {},
   "outputs": [],
   "source": [
    "import ssl\n",
    "import numpy as np\n",
    "ssl._create_default_https_context = ssl._create_unverified_context\n",
    "data = Dataset.load_builtin('ml-100k', prompt=False)\n",
    "raw_data = np.array(data.raw_ratings, dtype=int)"
   ]
  },
  {
   "cell_type": "code",
   "execution_count": null,
   "metadata": {},
   "outputs": [],
   "source": [
    "# 유저랑 아이템의 ID를 0부터 시작하게함\n",
    "raw_data[:, 0] -= 1\n",
    "raw_data[:, 1] -= 1"
   ]
  },
  {
   "cell_type": "code",
   "execution_count": null,
   "metadata": {},
   "outputs": [],
   "source": [
    "# 유저랑 아이템의 수를 구함\n",
    "n_users = np.max(raw_data[:, 0])\n",
    "n_movies = np.max(raw_data[:, 1])\n",
    "shape = (n_users + 1, n_movies + 1)\n",
    "shape"
   ]
  },
  {
   "cell_type": "code",
   "execution_count": null,
   "metadata": {},
   "outputs": [],
   "source": [
    "# 각 유저가 평가한 아이템을 1로 채움\n",
    "adj_matrix = np.ndarray(shape, dtype=int)\n",
    "for user_id, movie_id, rating, time in raw_data:\n",
    "    adj_matrix[user_id][movie_id] = 1\n",
    "\n",
    "adj_matrix"
   ]
  },
  {
   "cell_type": "code",
   "execution_count": 1,
   "metadata": {},
   "outputs": [
    {
     "ename": "NameError",
     "evalue": "name 'adj_matrix' is not defined",
     "output_type": "error",
     "traceback": [
      "\u001b[1;31m---------------------------------------------------------------------------\u001b[0m",
      "\u001b[1;31mNameError\u001b[0m                                 Traceback (most recent call last)",
      "\u001b[1;32m~\\AppData\\Local\\Temp\\ipykernel_40968\\4104557667.py\u001b[0m in \u001b[0;36m<module>\u001b[1;34m\u001b[0m\n\u001b[0;32m      1\u001b[0m \u001b[1;31m# 각 사용자의 벡터와 0번 사용자 벡터의 내적을 계산하여 유사도를 구하고 매칭해줌\u001b[0m\u001b[1;33m\u001b[0m\u001b[1;33m\u001b[0m\u001b[0m\n\u001b[1;32m----> 2\u001b[1;33m \u001b[0mmy_id\u001b[0m\u001b[1;33m,\u001b[0m \u001b[0mmy_vector\u001b[0m \u001b[1;33m=\u001b[0m \u001b[1;36m0\u001b[0m\u001b[1;33m,\u001b[0m \u001b[0madj_matrix\u001b[0m\u001b[1;33m[\u001b[0m\u001b[1;36m0\u001b[0m\u001b[1;33m]\u001b[0m\u001b[1;33m\u001b[0m\u001b[1;33m\u001b[0m\u001b[0m\n\u001b[0m\u001b[0;32m      3\u001b[0m \u001b[0mbest_match\u001b[0m\u001b[1;33m,\u001b[0m \u001b[0mbest_match_id\u001b[0m\u001b[1;33m,\u001b[0m \u001b[0mbest_match_vector\u001b[0m \u001b[1;33m=\u001b[0m \u001b[1;33m-\u001b[0m\u001b[1;36m1\u001b[0m\u001b[1;33m,\u001b[0m \u001b[1;33m-\u001b[0m\u001b[1;36m1\u001b[0m\u001b[1;33m,\u001b[0m  \u001b[1;33m[\u001b[0m\u001b[1;33m]\u001b[0m\u001b[1;33m\u001b[0m\u001b[1;33m\u001b[0m\u001b[0m\n\u001b[0;32m      4\u001b[0m \u001b[1;33m\u001b[0m\u001b[0m\n\u001b[0;32m      5\u001b[0m \u001b[1;32mfor\u001b[0m \u001b[0muser_id\u001b[0m\u001b[1;33m,\u001b[0m \u001b[0muser_vector\u001b[0m \u001b[1;32min\u001b[0m \u001b[0menumerate\u001b[0m\u001b[1;33m(\u001b[0m\u001b[0madj_matrix\u001b[0m\u001b[1;33m)\u001b[0m\u001b[1;33m:\u001b[0m\u001b[1;33m\u001b[0m\u001b[1;33m\u001b[0m\u001b[0m\n",
      "\u001b[1;31mNameError\u001b[0m: name 'adj_matrix' is not defined"
     ]
    }
   ],
   "source": [
    "# 각 사용자의 벡터와 0번 사용자 벡터의 내적을 계산하여 유사도를 구하고 매칭해줌\n",
    "my_id, my_vector = 0, adj_matrix[0]\n",
    "best_match, best_match_id, best_match_vector = -1, -1,  []\n",
    "\n",
    "for user_id, user_vector in enumerate(adj_matrix):\n",
    "    if my_id != user_id:\n",
    "        similarity = np.dot(my_vector, user_vector)\n",
    "        if similarity > best_match:\n",
    "            best_match = similarity\n",
    "            best_match_id = user_id\n",
    "            best_match_vector = user_vector\n",
    "            \n",
    "print('Best Match: {}, Best Match ID: {}'.format(best_match, best_match_id))\n"
   ]
  },
  {
   "cell_type": "code",
   "execution_count": null,
   "metadata": {},
   "outputs": [],
   "source": [
    "# 0번 사용자 벡터와 가장 유사한 사용자 벡터를 순회하면서 같은 위치에 있는 요소 추출하여 아이템 추천\n",
    "# log1은 현재 사용자가 해당 아이템을 평가한 것\n",
    "# log2는 유사한 사용자가 해당 아이템을 평가한 것\n",
    "recommend_list = []\n",
    "for i, log in enumerate((zip(my_vector, best_match_vector))):\n",
    "    log1, log2 = log\n",
    "    if log1 < 1 and log2 > 0:\n",
    "        recommend_list.append(i)\n",
    "print(recommend_list)"
   ]
  },
  {
   "cell_type": "code",
   "execution_count": null,
   "metadata": {},
   "outputs": [],
   "source": [
    "# 1 대신 rating 사용 \n",
    "adj_matrix = np.ndarray(shape, dtype=int)\n",
    "for user_id, movie_id, rating, time in raw_data:\n",
    "    adj_matrix[user_id][movie_id] = rating\n",
    "\n",
    "adj_matrix"
   ]
  }
 ],
 "metadata": {
  "kernelspec": {
   "display_name": "Python 3",
   "language": "python",
   "name": "python3"
  },
  "language_info": {
   "codemirror_mode": {
    "name": "ipython",
    "version": 3
   },
   "file_extension": ".py",
   "mimetype": "text/x-python",
   "name": "python",
   "nbconvert_exporter": "python",
   "pygments_lexer": "ipython3",
   "version": "3.9.13"
  }
 },
 "nbformat": 4,
 "nbformat_minor": 4
}
