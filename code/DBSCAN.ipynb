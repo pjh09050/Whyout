{
 "cells": [
  {
   "cell_type": "code",
   "execution_count": 13,
   "metadata": {},
   "outputs": [],
   "source": [
    "import pandas as pd\n",
    "from sklearn.cluster import DBSCAN\n",
    "from sklearn.manifold import MDS\n",
    "from sklearn.metrics import silhouette_score, silhouette_samples\n",
    "import matplotlib.pyplot as plt\n",
    "import ast\n",
    "import plotly.express as px\n",
    "import plotly.graph_objects as go\n",
    "import matplotlib.pyplot as plt\n",
    "import warnings\n",
    "warnings.filterwarnings(\"ignore\")"
   ]
  },
  {
   "cell_type": "code",
   "execution_count": 14,
   "metadata": {},
   "outputs": [],
   "source": [
    "place = pd.read_csv('../Data/whyout_data/place.csv') # shape(4697,10), place idx에서 23개가 비어있음\n",
    "product = pd.read_csv('../Data/whyout_data/product.csv') # shape(5834,11), product idx에서 538개가 비어있음\n",
    "video = pd.read_csv('../Data/whyout_data/video.csv') # shape(3250, 9), video idx에서 315개가 비어있음"
   ]
  },
  {
   "cell_type": "code",
   "execution_count": 20,
   "metadata": {},
   "outputs": [],
   "source": [
    "df_cleaned = product.iloc[:,1:8].dropna()"
   ]
  },
  {
   "cell_type": "code",
   "execution_count": 21,
   "metadata": {},
   "outputs": [],
   "source": [
    "# 문자열을 리스트로 변환하는 함수\n",
    "def str_to_list(string):\n",
    "    try:\n",
    "        # 문자열을 ast.literal_eval을 사용하여 리스트로 변환\n",
    "        return ast.literal_eval(string.strip())\n",
    "    except Exception as e:\n",
    "        print(f\"Error parsing string: {string}\")\n",
    "        return []\n",
    "\n",
    "# 문자열을 리스트로 변환\n",
    "for col in df_cleaned.columns[1:]:\n",
    "    df_cleaned[col] = df_cleaned[col].apply(str_to_list)"
   ]
  },
  {
   "cell_type": "code",
   "execution_count": 22,
   "metadata": {},
   "outputs": [
    {
     "name": "stdout",
     "output_type": "stream",
     "text": [
      "Estimated number of clusters: 51\n"
     ]
    }
   ],
   "source": [
    "# 리스트를 수치형 데이터로 변환\n",
    "expanded_data = []\n",
    "for index, row in df_cleaned.iterrows():\n",
    "    combined_row = []\n",
    "    for col in df_cleaned.columns[1:]:\n",
    "        combined_row.extend(row[col])\n",
    "    expanded_data.append(combined_row)\n",
    "\n",
    "df_expanded = pd.DataFrame(expanded_data)\n",
    "\n",
    "# DBSCAN 모델 생성 및 학습\n",
    "dbscan = DBSCAN(eps=0.5, min_samples=10)\n",
    "dbscan.fit(df_expanded)\n",
    "\n",
    "# 클러스터링 결과 가져오기\n",
    "labels = dbscan.labels_\n",
    "\n",
    "# 클러스터 개수\n",
    "n_clusters_ = len(set(labels)) - (1 if -1 in labels else 0)\n",
    "print('Estimated number of clusters: %d' % n_clusters_)\n",
    "\n",
    "# 데이터프레임에 클러스터 라벨 추가\n",
    "df_expanded['Cluster'] = labels"
   ]
  }
 ],
 "metadata": {
  "kernelspec": {
   "display_name": "Python 3",
   "language": "python",
   "name": "python3"
  },
  "language_info": {
   "codemirror_mode": {
    "name": "ipython",
    "version": 3
   },
   "file_extension": ".py",
   "mimetype": "text/x-python",
   "name": "python",
   "nbconvert_exporter": "python",
   "pygments_lexer": "ipython3",
   "version": "3.8.15"
  }
 },
 "nbformat": 4,
 "nbformat_minor": 2
}
