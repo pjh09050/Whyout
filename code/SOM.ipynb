{
 "cells": [
  {
   "cell_type": "code",
   "metadata": {},
   "source": [
    "import pandas as pd\n",
    "import numpy as np\n",
    "from minisom import MiniSom\n",
    "import matplotlib.pyplot as plt\n",
    "import warnings\n",
    "warnings.filterwarnings(\"ignore\")"
   ],
   "outputs": [],
   "execution_count": null
  },
  {
   "cell_type": "code",
   "metadata": {},
   "source": [
    "place = pd.read_csv('../Data/whyout_data/place.csv') # shape(4697,10), place idx에서 23개가 비어있음\n",
    "product = pd.read_csv('../Data/whyout_data/product.csv') # shape(5834,11), product idx에서 538개가 비어있음\n",
    "video = pd.read_csv('../Data/whyout_data/video.csv') # shape(3250, 9), video idx에서 315개가 비어있음"
   ],
   "outputs": [],
   "execution_count": null
  },
  {
   "cell_type": "code",
   "metadata": {},
   "source": [
    "df_product = product.iloc[:,1:8].dropna()"
   ],
   "outputs": [],
   "execution_count": null
  },
  {
   "metadata": {},
   "cell_type": "code",
   "source": [
    "df_product = df_product.applymap(eval)  # Convert string representations of lists to actual lists\n",
    "\n",
    "# Flatten the list columns for SOM input\n",
    "def flatten_column(column):\n",
    "    return pd.DataFrame(column.tolist(), index=column.index)\n",
    "\n",
    "df_product_flat = pd.concat([flatten_column(df_product[col]) for col in df_product.columns], axis=1)\n",
    "\n",
    "# Convert the dataframe to a numpy array\n",
    "data = df_product_flat.values"
   ],
   "outputs": [],
   "execution_count": null
  },
  {
   "cell_type": "code",
   "metadata": {},
   "source": [
    "# SOM 초기화 및 학습\n",
    "som = MiniSom(x=20, y=20, input_len=data.shape[1], sigma=1.0, learning_rate=0.5)\n",
    "som.random_weights_init(data)\n",
    "som.train_random(data, num_iteration=1000)\n",
    "\n",
    "# 데이터 포인트가 매핑된 SOM의 위치 저장\n",
    "mapped = np.array([som.winner(x) for x in data])\n",
    "mapped_df = pd.DataFrame(mapped, columns=['x', 'y'])\n",
    "\n",
    "# 군집 결과를 글로 출력\n",
    "clusters = {}\n",
    "for idx, loc in enumerate(mapped):\n",
    "    loc = tuple(loc)\n",
    "    if loc not in clusters:\n",
    "        clusters[loc] = []\n",
    "    clusters[loc].append(idx)\n",
    "\n",
    "# 군집 결과 출력\n",
    "for cluster, indices in clusters.items():\n",
    "    print(f\"Cluster {cluster}: {indices}\")\n",
    "\n",
    "# 결과 시각화\n",
    "plt.figure(figsize=(14, 14))\n",
    "\n",
    "# 배경으로 거리 맵 그리기\n",
    "plt.pcolor(som.distance_map().T, cmap='coolwarm')\n",
    "plt.colorbar(label='Distance Map')\n",
    "\n",
    "# 데이터 포인트 그리기\n",
    "colors = plt.cm.rainbow(np.linspace(0, 1, len(data)))\n",
    "for i, x in enumerate(data):\n",
    "    w = som.winner(x)  # 승자 노드 찾기\n",
    "    plt.plot(w[0] + 0.5, w[1] + 0.5, 'o', markerfacecolor='None',\n",
    "             markeredgecolor=colors[i], markersize=12, markeredgewidth=2)\n",
    "    if i % 50 == 0:  # 숫자를 간헐적으로 표시하여 가독성 향상\n",
    "        plt.text(w[0] + 0.5, w[1] + 0.5, str(i), color=colors[i],\n",
    "                 fontdict={'weight': 'bold', 'size': 11}, ha='center', va='center')\n",
    "\n",
    "plt.title('Self-Organizing Map (SOM) Visualization', fontsize=18)\n",
    "plt.grid(True)\n",
    "plt.show()\n",
    "\n",
    "# 군집 결과를 데이터프레임으로 저장\n",
    "cluster_df = pd.DataFrame.from_dict(clusters, orient='index').transpose()"
   ],
   "outputs": [],
   "execution_count": null
  },
  {
   "cell_type": "code",
   "metadata": {},
   "source": [
    "cluster_df"
   ],
   "outputs": [],
   "execution_count": null
  }
 ],
 "metadata": {
  "kernelspec": {
   "display_name": "3_8",
   "language": "python",
   "name": "python3"
  },
  "language_info": {
   "codemirror_mode": {
    "name": "ipython",
    "version": 3
   },
   "file_extension": ".py",
   "mimetype": "text/x-python",
   "name": "python",
   "nbconvert_exporter": "python",
   "pygments_lexer": "ipython3",
   "version": "3.8.15"
  }
 },
 "nbformat": 4,
 "nbformat_minor": 2
}
